{
 "cells": [
  {
   "cell_type": "code",
   "execution_count": 4,
   "metadata": {},
   "outputs": [],
   "source": [
    "# Importamos las librerias que vamos a utilizar\n",
    "import pandas as pd\n",
    "import matplotlib.pyplot as plt"
   ]
  },
  {
   "cell_type": "code",
   "execution_count": 5,
   "metadata": {},
   "outputs": [],
   "source": [
    "# Abrimos el archivo 'Estadisticas consultas catálogo-reportresults.csv' que contiene los datos de la busqueda de los usuarios en el sistema Koha\n",
    "data_frame = pd.read_csv(\"d:/Users/Laura/Desktop/Espacio Integrador II/3 - Practica Academica/Practica-Acad-mica/1 - archivos/Estadísticas consultas catálogo-reportresults.csv\", sep=';')\n"
   ]
  },
  {
   "cell_type": "markdown",
   "metadata": {},
   "source": [
    "### Observamos la estructura del archivo\n",
    "##### Primer contacto con los datos"
   ]
  },
  {
   "cell_type": "code",
   "execution_count": 6,
   "metadata": {},
   "outputs": [
    {
     "data": {
      "text/html": [
       "<div>\n",
       "<style scoped>\n",
       "    .dataframe tbody tr th:only-of-type {\n",
       "        vertical-align: middle;\n",
       "    }\n",
       "\n",
       "    .dataframe tbody tr th {\n",
       "        vertical-align: top;\n",
       "    }\n",
       "\n",
       "    .dataframe thead th {\n",
       "        text-align: right;\n",
       "    }\n",
       "</style>\n",
       "<table border=\"1\" class=\"dataframe\">\n",
       "  <thead>\n",
       "    <tr style=\"text-align: right;\">\n",
       "      <th></th>\n",
       "      <th>sessionid</th>\n",
       "      <th>query_desc</th>\n",
       "      <th>type</th>\n",
       "      <th>total</th>\n",
       "      <th>time</th>\n",
       "      <th>branchcode</th>\n",
       "      <th>categorycode</th>\n",
       "    </tr>\n",
       "  </thead>\n",
       "  <tbody>\n",
       "    <tr>\n",
       "      <th>0</th>\n",
       "      <td>8b973f78de404b6eb6548e4a229cb725</td>\n",
       "      <td>au,wrdl: bronzino</td>\n",
       "      <td>biblio</td>\n",
       "      <td>16</td>\n",
       "      <td>2018-10-17 15:27:49</td>\n",
       "      <td>FING</td>\n",
       "      <td>DOCENTE</td>\n",
       "    </tr>\n",
       "    <tr>\n",
       "      <th>1</th>\n",
       "      <td>8b973f78de404b6eb6548e4a229cb725</td>\n",
       "      <td>au,wrdl: bronzino</td>\n",
       "      <td>biblio</td>\n",
       "      <td>16</td>\n",
       "      <td>2018-10-17 15:28:25</td>\n",
       "      <td>FING</td>\n",
       "      <td>DOCENTE</td>\n",
       "    </tr>\n",
       "    <tr>\n",
       "      <th>2</th>\n",
       "      <td>8b973f78de404b6eb6548e4a229cb725</td>\n",
       "      <td>au,wrdl: webster</td>\n",
       "      <td>biblio</td>\n",
       "      <td>10</td>\n",
       "      <td>2018-10-17 15:29:51</td>\n",
       "      <td>FING</td>\n",
       "      <td>DOCENTE</td>\n",
       "    </tr>\n",
       "    <tr>\n",
       "      <th>3</th>\n",
       "      <td>8b973f78de404b6eb6548e4a229cb725</td>\n",
       "      <td>au,wrdl: webster</td>\n",
       "      <td>biblio</td>\n",
       "      <td>10</td>\n",
       "      <td>2018-10-17 15:30:02</td>\n",
       "      <td>FING</td>\n",
       "      <td>DOCENTE</td>\n",
       "    </tr>\n",
       "    <tr>\n",
       "      <th>4</th>\n",
       "      <td>8b973f78de404b6eb6548e4a229cb725</td>\n",
       "      <td>au,wrdl: webster</td>\n",
       "      <td>biblio</td>\n",
       "      <td>10</td>\n",
       "      <td>2018-10-17 15:30:13</td>\n",
       "      <td>FING</td>\n",
       "      <td>DOCENTE</td>\n",
       "    </tr>\n",
       "  </tbody>\n",
       "</table>\n",
       "</div>"
      ],
      "text/plain": [
       "                          sessionid         query_desc    type  total  \\\n",
       "0  8b973f78de404b6eb6548e4a229cb725  au,wrdl: bronzino  biblio     16   \n",
       "1  8b973f78de404b6eb6548e4a229cb725  au,wrdl: bronzino  biblio     16   \n",
       "2  8b973f78de404b6eb6548e4a229cb725   au,wrdl: webster  biblio     10   \n",
       "3  8b973f78de404b6eb6548e4a229cb725   au,wrdl: webster  biblio     10   \n",
       "4  8b973f78de404b6eb6548e4a229cb725   au,wrdl: webster  biblio     10   \n",
       "\n",
       "                  time branchcode categorycode  \n",
       "0  2018-10-17 15:27:49       FING      DOCENTE  \n",
       "1  2018-10-17 15:28:25       FING      DOCENTE  \n",
       "2  2018-10-17 15:29:51       FING      DOCENTE  \n",
       "3  2018-10-17 15:30:02       FING      DOCENTE  \n",
       "4  2018-10-17 15:30:13       FING      DOCENTE  "
      ]
     },
     "execution_count": 6,
     "metadata": {},
     "output_type": "execute_result"
    }
   ],
   "source": [
    "# Vemos los primeros datos del archivo\n",
    "data_frame.head()"
   ]
  },
  {
   "cell_type": "code",
   "execution_count": 7,
   "metadata": {},
   "outputs": [
    {
     "name": "stdout",
     "output_type": "stream",
     "text": [
      "sessionid       object\n",
      "query_desc      object\n",
      "type            object\n",
      "total            int64\n",
      "time            object\n",
      "branchcode      object\n",
      "categorycode    object\n",
      "dtype: object\n"
     ]
    }
   ],
   "source": [
    "# Consultamos los tipos de variable de cada columna\n",
    "print(data_frame.dtypes)"
   ]
  },
  {
   "cell_type": "code",
   "execution_count": 8,
   "metadata": {},
   "outputs": [
    {
     "name": "stdout",
     "output_type": "stream",
     "text": [
      "Estadísticas descriptivas de la columna 'total':\n"
     ]
    },
    {
     "data": {
      "text/plain": [
       "count     2535.000000\n",
       "mean       190.157791\n",
       "std        820.385073\n",
       "min          0.000000\n",
       "25%          2.000000\n",
       "50%          7.000000\n",
       "75%         33.000000\n",
       "max      11525.000000\n",
       "Name: total, dtype: float64"
      ]
     },
     "execution_count": 8,
     "metadata": {},
     "output_type": "execute_result"
    }
   ],
   "source": [
    "# Vemos las medidas estadisticas basicas para la variable 'total'\n",
    "print(\"Estadísticas descriptivas de la columna 'total':\")\n",
    "data_frame['total'].describe()"
   ]
  },
  {
   "cell_type": "code",
   "execution_count": 9,
   "metadata": {},
   "outputs": [
    {
     "name": "stdout",
     "output_type": "stream",
     "text": [
      "Las búsquedas totales que no tuvieron ningun resultado son: 317\n",
      "Esto representa un porcentaje del 12.5 %\n"
     ]
    }
   ],
   "source": [
    "# Nos fijamos la cantidad de veces que el sistema no encontró ningun material con la busqueda ingresada por el usuario\n",
    "cero_resultados = data_frame[data_frame['total'] == 0]\n",
    "print(f\"Las búsquedas totales que no tuvieron ningun resultado son: {len(cero_resultados)}\")\n",
    "\n",
    "print(f\"Esto representa un porcentaje del {round((len(cero_resultados) / len(data_frame))*100, 2)} %\")"
   ]
  },
  {
   "cell_type": "code",
   "execution_count": 10,
   "metadata": {},
   "outputs": [
    {
     "name": "stdout",
     "output_type": "stream",
     "text": [
      "Máximo de resultados que encontró el sistema: 11525\n"
     ]
    },
    {
     "data": {
      "text/html": [
       "<div>\n",
       "<style scoped>\n",
       "    .dataframe tbody tr th:only-of-type {\n",
       "        vertical-align: middle;\n",
       "    }\n",
       "\n",
       "    .dataframe tbody tr th {\n",
       "        vertical-align: top;\n",
       "    }\n",
       "\n",
       "    .dataframe thead th {\n",
       "        text-align: right;\n",
       "    }\n",
       "</style>\n",
       "<table border=\"1\" class=\"dataframe\">\n",
       "  <thead>\n",
       "    <tr style=\"text-align: right;\">\n",
       "      <th></th>\n",
       "      <th>sessionid</th>\n",
       "      <th>query_desc</th>\n",
       "      <th>type</th>\n",
       "      <th>total</th>\n",
       "      <th>time</th>\n",
       "      <th>branchcode</th>\n",
       "      <th>categorycode</th>\n",
       "    </tr>\n",
       "  </thead>\n",
       "  <tbody>\n",
       "    <tr>\n",
       "      <th>1394</th>\n",
       "      <td>7a7a070b4c157d901bc30c69555b7dfa</td>\n",
       "      <td>kw,wrdl: c++,</td>\n",
       "      <td>biblio</td>\n",
       "      <td>11525</td>\n",
       "      <td>2022-11-01 11:30:25</td>\n",
       "      <td>FING</td>\n",
       "      <td>BIBLIOTECA</td>\n",
       "    </tr>\n",
       "  </tbody>\n",
       "</table>\n",
       "</div>"
      ],
      "text/plain": [
       "                             sessionid      query_desc    type  total  \\\n",
       "1394  7a7a070b4c157d901bc30c69555b7dfa  kw,wrdl: c++,   biblio  11525   \n",
       "\n",
       "                     time branchcode categorycode  \n",
       "1394  2022-11-01 11:30:25       FING   BIBLIOTECA  "
      ]
     },
     "execution_count": 10,
     "metadata": {},
     "output_type": "execute_result"
    }
   ],
   "source": [
    "# Buscamos el valor maximo de resultados que logro devolver el sistema\n",
    "max_resultados = data_frame['total'].max()\n",
    "print(f\"Máximo de resultados que encontró el sistema: {max_resultados}\")\n",
    "\n",
    "# Encontramos el usuario que realizo esta busqueda\n",
    "data_frame[data_frame['total'] == max_resultados]"
   ]
  },
  {
   "cell_type": "code",
   "execution_count": 11,
   "metadata": {},
   "outputs": [
    {
     "data": {
      "image/png": "[encoded data removed]",
      "text/plain": [
       "<Figure size 640x480 with 1 Axes>"
      ]
     },
     "metadata": {},
     "output_type": "display_data"
    }
   ],
   "source": [
    "# Histograma de la columna 'total'\n",
    "plt.hist(data_frame['total'], bins=30, edgecolor='black')\n",
    "plt.title('Distribución de Resultados obtenidos por los usuarios')\n",
    "plt.figtext(0.5, -0.05, 'Gráfico N°1\\nFuente de información propia', ha='center', va='center')\n",
    "plt.xlabel('Número de Resultados')\n",
    "plt.ylabel('Frecuencia')\n",
    "plt.show()"
   ]
  }
 ],
 "metadata": {
  "kernelspec": {
   "display_name": "Python 3",
   "language": "python",
   "name": "python3"
  },
  "language_info": {
   "codemirror_mode": {
    "name": "ipython",
    "version": 3
   },
   "file_extension": ".py",
   "mimetype": "text/x-python",
   "name": "python",
   "nbconvert_exporter": "python",
   "pygments_lexer": "ipython3",
   "version": "3.11.9"
  }
 },
 "nbformat": 4,
 "nbformat_minor": 2
}
