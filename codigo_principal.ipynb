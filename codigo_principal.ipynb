{
 "cells": [
  {
   "cell_type": "code",
   "execution_count": 14,
   "metadata": {},
   "outputs": [],
   "source": [
    "# Importamos las librerias que vamos a utilizar\n",
    "import pandas as pd\n",
    "import matplotlib.pyplot as plt\n",
    "import re"
   ]
  },
  {
   "cell_type": "code",
   "execution_count": 52,
   "metadata": {},
   "outputs": [],
   "source": [
    "# Creamos una lista de los campos de búsqueda\n",
    "campos_busqueda = ['kw', 'au', 'mc-itype', 'ti', 'an', 'itype', 'su', 'BC', 'bc', 'callnum', \n",
    "    'I-format', 'AU', 'YE', 'an', 'se', 'In', 'bx', 'se', 'su-to', 'mc-itype,phr', 'l-format', 'Provider']\n",
    "\n",
    "# Creamos una expresión regular para encontrar los campos\n",
    "patrones = r'\\b(?:' + '|'.join(campos_busqueda) + r')\\b'\n",
    "\n",
    "# Funcion para extraer el campo de cada fila\n",
    "def extraer_campo(texto):\n",
    "    \"\"\"\n",
    "    Extrae un campo específico de un texto dado utilizando una expresión regular.\n",
    "    Args:\n",
    "        texto (str): El texto del cual se desea extraer el campo.\n",
    "    Returns:\n",
    "        str or None: El campo extraído si se encuentra una coincidencia, de lo contrario, None.\n",
    "    \"\"\"\n",
    "    match = re.search(patrones, texto)\n",
    "    return match.group(0) if match else None"
   ]
  },
  {
   "cell_type": "code",
   "execution_count": 53,
   "metadata": {},
   "outputs": [],
   "source": [
    "# Abrimos el archivo 'Estadisticas consultas catálogo-reportresults.csv' que contiene los datos de la busqueda de los usuarios en el sistema Koha\n",
    "data_frame = pd.read_csv(\"d:/Users/Laura/Desktop/Espacio Integrador II/3 - Practica Academica/Practica-Acad-mica/datos/Estadísticas consultas catálogo-reportresults.csv\", sep=';')"
   ]
  },
  {
   "cell_type": "markdown",
   "metadata": {},
   "source": [
    "### Estrucutura del archivo\n",
    "##### Primer contacto con el archivo"
   ]
  },
  {
   "cell_type": "code",
   "execution_count": 54,
   "metadata": {},
   "outputs": [
    {
     "data": {
      "text/html": [
       "<div>\n",
       "<style scoped>\n",
       "    .dataframe tbody tr th:only-of-type {\n",
       "        vertical-align: middle;\n",
       "    }\n",
       "\n",
       "    .dataframe tbody tr th {\n",
       "        vertical-align: top;\n",
       "    }\n",
       "\n",
       "    .dataframe thead th {\n",
       "        text-align: right;\n",
       "    }\n",
       "</style>\n",
       "<table border=\"1\" class=\"dataframe\">\n",
       "  <thead>\n",
       "    <tr style=\"text-align: right;\">\n",
       "      <th></th>\n",
       "      <th>sessionid</th>\n",
       "      <th>query_desc</th>\n",
       "      <th>type</th>\n",
       "      <th>total</th>\n",
       "      <th>time</th>\n",
       "      <th>branchcode</th>\n",
       "      <th>categorycode</th>\n",
       "    </tr>\n",
       "  </thead>\n",
       "  <tbody>\n",
       "    <tr>\n",
       "      <th>0</th>\n",
       "      <td>8b973f78de404b6eb6548e4a229cb725</td>\n",
       "      <td>au,wrdl: bronzino</td>\n",
       "      <td>biblio</td>\n",
       "      <td>16</td>\n",
       "      <td>2018-10-17 15:27:49</td>\n",
       "      <td>FING</td>\n",
       "      <td>DOCENTE</td>\n",
       "    </tr>\n",
       "    <tr>\n",
       "      <th>1</th>\n",
       "      <td>8b973f78de404b6eb6548e4a229cb725</td>\n",
       "      <td>au,wrdl: bronzino</td>\n",
       "      <td>biblio</td>\n",
       "      <td>16</td>\n",
       "      <td>2018-10-17 15:28:25</td>\n",
       "      <td>FING</td>\n",
       "      <td>DOCENTE</td>\n",
       "    </tr>\n",
       "    <tr>\n",
       "      <th>2</th>\n",
       "      <td>8b973f78de404b6eb6548e4a229cb725</td>\n",
       "      <td>au,wrdl: webster</td>\n",
       "      <td>biblio</td>\n",
       "      <td>10</td>\n",
       "      <td>2018-10-17 15:29:51</td>\n",
       "      <td>FING</td>\n",
       "      <td>DOCENTE</td>\n",
       "    </tr>\n",
       "    <tr>\n",
       "      <th>3</th>\n",
       "      <td>8b973f78de404b6eb6548e4a229cb725</td>\n",
       "      <td>au,wrdl: webster</td>\n",
       "      <td>biblio</td>\n",
       "      <td>10</td>\n",
       "      <td>2018-10-17 15:30:02</td>\n",
       "      <td>FING</td>\n",
       "      <td>DOCENTE</td>\n",
       "    </tr>\n",
       "    <tr>\n",
       "      <th>4</th>\n",
       "      <td>8b973f78de404b6eb6548e4a229cb725</td>\n",
       "      <td>au,wrdl: webster</td>\n",
       "      <td>biblio</td>\n",
       "      <td>10</td>\n",
       "      <td>2018-10-17 15:30:13</td>\n",
       "      <td>FING</td>\n",
       "      <td>DOCENTE</td>\n",
       "    </tr>\n",
       "  </tbody>\n",
       "</table>\n",
       "</div>"
      ],
      "text/plain": [
       "                          sessionid         query_desc    type  total  \\\n",
       "0  8b973f78de404b6eb6548e4a229cb725  au,wrdl: bronzino  biblio     16   \n",
       "1  8b973f78de404b6eb6548e4a229cb725  au,wrdl: bronzino  biblio     16   \n",
       "2  8b973f78de404b6eb6548e4a229cb725   au,wrdl: webster  biblio     10   \n",
       "3  8b973f78de404b6eb6548e4a229cb725   au,wrdl: webster  biblio     10   \n",
       "4  8b973f78de404b6eb6548e4a229cb725   au,wrdl: webster  biblio     10   \n",
       "\n",
       "                  time branchcode categorycode  \n",
       "0  2018-10-17 15:27:49       FING      DOCENTE  \n",
       "1  2018-10-17 15:28:25       FING      DOCENTE  \n",
       "2  2018-10-17 15:29:51       FING      DOCENTE  \n",
       "3  2018-10-17 15:30:02       FING      DOCENTE  \n",
       "4  2018-10-17 15:30:13       FING      DOCENTE  "
      ]
     },
     "execution_count": 54,
     "metadata": {},
     "output_type": "execute_result"
    }
   ],
   "source": [
    "# Vemos los primeros datos del archivo\n",
    "data_frame.head()"
   ]
  },
  {
   "cell_type": "code",
   "execution_count": 55,
   "metadata": {},
   "outputs": [
    {
     "name": "stdout",
     "output_type": "stream",
     "text": [
      "sessionid       object\n",
      "query_desc      object\n",
      "type            object\n",
      "total            int64\n",
      "time            object\n",
      "branchcode      object\n",
      "categorycode    object\n",
      "dtype: object\n"
     ]
    }
   ],
   "source": [
    "# Consultamos los tipos de variable de cada columna\n",
    "print(data_frame.dtypes)"
   ]
  },
  {
   "cell_type": "code",
   "execution_count": 56,
   "metadata": {},
   "outputs": [
    {
     "name": "stdout",
     "output_type": "stream",
     "text": [
      "Estadísticas descriptivas de la columna 'total':\n"
     ]
    },
    {
     "data": {
      "text/plain": [
       "count     2535.000000\n",
       "mean       190.157791\n",
       "std        820.385073\n",
       "min          0.000000\n",
       "25%          2.000000\n",
       "50%          7.000000\n",
       "75%         33.000000\n",
       "max      11525.000000\n",
       "Name: total, dtype: float64"
      ]
     },
     "execution_count": 56,
     "metadata": {},
     "output_type": "execute_result"
    }
   ],
   "source": [
    "# Vemos las medidas estadisticas basicas para la variable 'total'\n",
    "print(\"Estadísticas descriptivas de la columna 'total':\")\n",
    "data_frame['total'].describe()"
   ]
  },
  {
   "cell_type": "code",
   "execution_count": 57,
   "metadata": {},
   "outputs": [
    {
     "name": "stdout",
     "output_type": "stream",
     "text": [
      "Las búsquedas totales que no tuvieron ningun resultado son: 317\n",
      "Esto representa un porcentaje del 12.5 %\n"
     ]
    }
   ],
   "source": [
    "# Nos fijamos la cantidad de veces que el sistema no encontró ningun material con la busqueda ingresada por el usuario\n",
    "cero_resultados = data_frame[data_frame['total'] == 0]\n",
    "print(f\"Las búsquedas totales que no tuvieron ningun resultado son: {len(cero_resultados)}\")\n",
    "\n",
    "print(f\"Esto representa un porcentaje del {round((len(cero_resultados) / len(data_frame))*100, 2)} %\")"
   ]
  },
  {
   "cell_type": "code",
   "execution_count": 58,
   "metadata": {},
   "outputs": [
    {
     "name": "stdout",
     "output_type": "stream",
     "text": [
      "Máximo de resultados que encontró el sistema: 11525\n"
     ]
    },
    {
     "data": {
      "text/html": [
       "<div>\n",
       "<style scoped>\n",
       "    .dataframe tbody tr th:only-of-type {\n",
       "        vertical-align: middle;\n",
       "    }\n",
       "\n",
       "    .dataframe tbody tr th {\n",
       "        vertical-align: top;\n",
       "    }\n",
       "\n",
       "    .dataframe thead th {\n",
       "        text-align: right;\n",
       "    }\n",
       "</style>\n",
       "<table border=\"1\" class=\"dataframe\">\n",
       "  <thead>\n",
       "    <tr style=\"text-align: right;\">\n",
       "      <th></th>\n",
       "      <th>sessionid</th>\n",
       "      <th>query_desc</th>\n",
       "      <th>type</th>\n",
       "      <th>total</th>\n",
       "      <th>time</th>\n",
       "      <th>branchcode</th>\n",
       "      <th>categorycode</th>\n",
       "    </tr>\n",
       "  </thead>\n",
       "  <tbody>\n",
       "    <tr>\n",
       "      <th>1394</th>\n",
       "      <td>7a7a070b4c157d901bc30c69555b7dfa</td>\n",
       "      <td>kw,wrdl: c++,</td>\n",
       "      <td>biblio</td>\n",
       "      <td>11525</td>\n",
       "      <td>2022-11-01 11:30:25</td>\n",
       "      <td>FING</td>\n",
       "      <td>BIBLIOTECA</td>\n",
       "    </tr>\n",
       "  </tbody>\n",
       "</table>\n",
       "</div>"
      ],
      "text/plain": [
       "                             sessionid      query_desc    type  total  \\\n",
       "1394  7a7a070b4c157d901bc30c69555b7dfa  kw,wrdl: c++,   biblio  11525   \n",
       "\n",
       "                     time branchcode categorycode  \n",
       "1394  2022-11-01 11:30:25       FING   BIBLIOTECA  "
      ]
     },
     "execution_count": 58,
     "metadata": {},
     "output_type": "execute_result"
    }
   ],
   "source": [
    "# Buscamos el valor maximo de resultados que logro devolver el sistema\n",
    "max_resultados = data_frame['total'].max()\n",
    "print(f\"Máximo de resultados que encontró el sistema: {max_resultados}\")\n",
    "\n",
    "# Encontramos el usuario que realizo esta busqueda\n",
    "data_frame[data_frame['total'] == max_resultados]"
   ]
  },
  {
   "cell_type": "code",
   "execution_count": 59,
   "metadata": {},
   "outputs": [
    {
     "data": {
      "image/png": "[encoded data removed]",
      "text/plain": [
       "<Figure size 640x480 with 1 Axes>"
      ]
     },
     "metadata": {},
     "output_type": "display_data"
    }
   ],
   "source": [
    "# Histograma de la columna 'total'\n",
    "plt.hist(data_frame['total'], bins=30, edgecolor='black')\n",
    "plt.title('Distribución de Resultados obtenidos por los usuarios')\n",
    "plt.xlabel('Número de Resultados')\n",
    "plt.ylabel('Frecuencia')\n",
    "plt.show()"
   ]
  },
  {
   "cell_type": "markdown",
   "metadata": {},
   "source": [
    "### Identificación de las variables más importantes y exploración de los datos\n",
    "##### Se identificarán las variables que ayudarán a resolver nuestro problema. Además de hacer una exploración de los datos que nos brinde más información sobre los datos"
   ]
  },
  {
   "cell_type": "code",
   "execution_count": 60,
   "metadata": {},
   "outputs": [
    {
     "data": {
      "text/html": [
       "<div>\n",
       "<style scoped>\n",
       "    .dataframe tbody tr th:only-of-type {\n",
       "        vertical-align: middle;\n",
       "    }\n",
       "\n",
       "    .dataframe tbody tr th {\n",
       "        vertical-align: top;\n",
       "    }\n",
       "\n",
       "    .dataframe thead th {\n",
       "        text-align: right;\n",
       "    }\n",
       "</style>\n",
       "<table border=\"1\" class=\"dataframe\">\n",
       "  <thead>\n",
       "    <tr style=\"text-align: right;\">\n",
       "      <th></th>\n",
       "      <th>sessionid</th>\n",
       "      <th>query_desc</th>\n",
       "      <th>total</th>\n",
       "      <th>time</th>\n",
       "      <th>categorycode</th>\n",
       "    </tr>\n",
       "  </thead>\n",
       "  <tbody>\n",
       "    <tr>\n",
       "      <th>0</th>\n",
       "      <td>8b973f78de404b6eb6548e4a229cb725</td>\n",
       "      <td>au,wrdl: bronzino</td>\n",
       "      <td>16</td>\n",
       "      <td>2018-10-17 15:27:49</td>\n",
       "      <td>DOCENTE</td>\n",
       "    </tr>\n",
       "    <tr>\n",
       "      <th>1</th>\n",
       "      <td>8b973f78de404b6eb6548e4a229cb725</td>\n",
       "      <td>au,wrdl: bronzino</td>\n",
       "      <td>16</td>\n",
       "      <td>2018-10-17 15:28:25</td>\n",
       "      <td>DOCENTE</td>\n",
       "    </tr>\n",
       "    <tr>\n",
       "      <th>2</th>\n",
       "      <td>8b973f78de404b6eb6548e4a229cb725</td>\n",
       "      <td>au,wrdl: webster</td>\n",
       "      <td>10</td>\n",
       "      <td>2018-10-17 15:29:51</td>\n",
       "      <td>DOCENTE</td>\n",
       "    </tr>\n",
       "    <tr>\n",
       "      <th>3</th>\n",
       "      <td>8b973f78de404b6eb6548e4a229cb725</td>\n",
       "      <td>au,wrdl: webster</td>\n",
       "      <td>10</td>\n",
       "      <td>2018-10-17 15:30:02</td>\n",
       "      <td>DOCENTE</td>\n",
       "    </tr>\n",
       "    <tr>\n",
       "      <th>4</th>\n",
       "      <td>8b973f78de404b6eb6548e4a229cb725</td>\n",
       "      <td>au,wrdl: webster</td>\n",
       "      <td>10</td>\n",
       "      <td>2018-10-17 15:30:13</td>\n",
       "      <td>DOCENTE</td>\n",
       "    </tr>\n",
       "  </tbody>\n",
       "</table>\n",
       "</div>"
      ],
      "text/plain": [
       "                          sessionid         query_desc  total  \\\n",
       "0  8b973f78de404b6eb6548e4a229cb725  au,wrdl: bronzino     16   \n",
       "1  8b973f78de404b6eb6548e4a229cb725  au,wrdl: bronzino     16   \n",
       "2  8b973f78de404b6eb6548e4a229cb725   au,wrdl: webster     10   \n",
       "3  8b973f78de404b6eb6548e4a229cb725   au,wrdl: webster     10   \n",
       "4  8b973f78de404b6eb6548e4a229cb725   au,wrdl: webster     10   \n",
       "\n",
       "                  time categorycode  \n",
       "0  2018-10-17 15:27:49      DOCENTE  \n",
       "1  2018-10-17 15:28:25      DOCENTE  \n",
       "2  2018-10-17 15:29:51      DOCENTE  \n",
       "3  2018-10-17 15:30:02      DOCENTE  \n",
       "4  2018-10-17 15:30:13      DOCENTE  "
      ]
     },
     "execution_count": 60,
     "metadata": {},
     "output_type": "execute_result"
    }
   ],
   "source": [
    "# Filtramos el data frame, nos quedaremos con las variables que resolverán nuestro problema\n",
    "df_filtrado = data_frame[['sessionid', 'query_desc','total','time', 'categorycode']]\n",
    "\n",
    "# Hacemos una copia del data frame filtrado para poder trabajar en otras ramas\n",
    "df_auxiliar = df_filtrado.copy()\n",
    "\n",
    "# Mostramos las primeras filas del data frame filtrado\n",
    "df_filtrado.head()"
   ]
  },
  {
   "cell_type": "code",
   "execution_count": 61,
   "metadata": {},
   "outputs": [
    {
     "data": {
      "image/png": "[encoded data removed]",
      "text/plain": [
       "<Figure size 1000x600 with 1 Axes>"
      ]
     },
     "metadata": {},
     "output_type": "display_data"
    }
   ],
   "source": [
    "# Pasamos el 'time' de la busqueda a formato tiempo para extraer el año y contabilizarlos\n",
    "df_auxiliar['time'] = pd.to_datetime(df_filtrado['time'])\n",
    "df_auxiliar['año'] = df_auxiliar['time'].dt.year\n",
    "\n",
    "total_busquedas = df_auxiliar['año'].value_counts().sort_index()\n",
    "\n",
    "# Grafico para el total de busquedas por año con colores diferentes\n",
    "plt.figure(figsize=(10, 6))\n",
    "colors = plt.cm.tab20(range(len(total_busquedas)))\n",
    "total_busquedas.plot(kind='bar', color=colors)\n",
    "plt.title('Cantidad de Búsquedas por Año')\n",
    "plt.xlabel('Año')\n",
    "plt.ylabel('Cantidad de Búsquedas')\n",
    "plt.xticks(rotation=45)\n",
    "plt.grid(axis='y', linestyle='-', alpha=0.5)\n",
    "plt.tight_layout()\n",
    "plt.show()"
   ]
  },
  {
   "cell_type": "code",
   "execution_count": 62,
   "metadata": {},
   "outputs": [
    {
     "name": "stdout",
     "output_type": "stream",
     "text": [
      "El usuario con más busquedas en el sistema es: \n"
     ]
    },
    {
     "data": {
      "text/plain": [
       "sessionid\n",
       "e03def7e497ec6c9bb60f290d5247dc8    49\n",
       "Name: count, dtype: int64"
      ]
     },
     "execution_count": 62,
     "metadata": {},
     "output_type": "execute_result"
    }
   ],
   "source": [
    "# Buscamos el usuario con más búsquedas dentro del sistema\n",
    "maximo_usuario_busqueda = df_auxiliar['sessionid'].value_counts().sort_index()\n",
    "print(\"El usuario con más busquedas en el sistema es: \")\n",
    "maximo_usuario_busqueda[maximo_usuario_busqueda == maximo_usuario_busqueda.max()]"
   ]
  },
  {
   "cell_type": "code",
   "execution_count": 63,
   "metadata": {},
   "outputs": [
    {
     "name": "stdout",
     "output_type": "stream",
     "text": [
      "La cantidad de usuarios que hicieron una búsqueda en el sistema son: 853\n"
     ]
    }
   ],
   "source": [
    "cantidad_usuarios = df_auxiliar['sessionid'].nunique()\n",
    "print(\"La cantidad de usuarios que hicieron una búsqueda en el sistema son:\", cantidad_usuarios)"
   ]
  },
  {
   "cell_type": "markdown",
   "metadata": {},
   "source": [
    "### Etapa de limpieza"
   ]
  },
  {
   "cell_type": "code",
   "execution_count": 64,
   "metadata": {},
   "outputs": [
    {
     "name": "stdout",
     "output_type": "stream",
     "text": [
      "Cantidad de filas duplicadas eliminadas: 65\n"
     ]
    }
   ],
   "source": [
    "# Borramos valores duplicados en el data frame filtrado\n",
    "df_filtrado.drop_duplicates()\n",
    "\n",
    "print(\"Cantidad de filas duplicadas eliminadas:\", len(df_filtrado) - len(df_filtrado.drop_duplicates()))"
   ]
  },
  {
   "cell_type": "code",
   "execution_count": 65,
   "metadata": {},
   "outputs": [
    {
     "name": "stdout",
     "output_type": "stream",
     "text": [
      "<class 'pandas.core.frame.DataFrame'>\n",
      "RangeIndex: 2535 entries, 0 to 2534\n",
      "Data columns (total 5 columns):\n",
      " #   Column        Non-Null Count  Dtype \n",
      "---  ------        --------------  ----- \n",
      " 0   sessionid     2535 non-null   object\n",
      " 1   query_desc    2535 non-null   object\n",
      " 2   total         2535 non-null   int64 \n",
      " 3   time          2535 non-null   object\n",
      " 4   categorycode  2535 non-null   object\n",
      "dtypes: int64(1), object(4)\n",
      "memory usage: 99.2+ KB\n"
     ]
    }
   ],
   "source": [
    "# Nos fijamos si las columnas tienen algún valor nulo\n",
    "df_filtrado.info()\n",
    "\n",
    "# Podemos observar que de las 2535 filas ninguna posee valores nulos"
   ]
  },
  {
   "cell_type": "code",
   "execution_count": 66,
   "metadata": {},
   "outputs": [],
   "source": [
    "# Buscamos las búsquedas que no tienen un campo ingresado\n",
    "filas_sin_query = df_filtrado[~ df_filtrado['query_desc'].str.contains(patrones, na=False)]"
   ]
  },
  {
   "cell_type": "code",
   "execution_count": 67,
   "metadata": {},
   "outputs": [],
   "source": [
    "# Imputamos las filas que no tienen campos ingresados\n",
    "filas_sin_query.loc[filas_sin_query.index == 750, 'query_desc'] = filas_sin_query.loc[750, 'query_desc'].replace('robot', 'kw: robot')\n",
    "filas_sin_query.loc[filas_sin_query.index == 752, 'query_desc'] = filas_sin_query.loc[752, 'query_desc'].replace('robot', 'kw: robot')\n",
    "filas_sin_query.loc[filas_sin_query.index == 754, 'query_desc'] = filas_sin_query.loc[754, 'query_desc'].replace('da vinci', 'kw,wrdl: da vinci')\n",
    "filas_sin_query.loc[filas_sin_query.index == 756, 'query_desc'] = filas_sin_query.loc[756, 'query_desc'].replace('robotica', 'kw: robotica')"
   ]
  },
  {
   "cell_type": "code",
   "execution_count": 68,
   "metadata": {},
   "outputs": [],
   "source": [
    "# Actualizamos los valores de los campos de busqueda en el data frame principal\n",
    "df_filtrado.update(filas_sin_query)"
   ]
  },
  {
   "cell_type": "markdown",
   "metadata": {},
   "source": [
    "### Preparación de los datos para el análisis estadístico"
   ]
  },
  {
   "cell_type": "code",
   "execution_count": 69,
   "metadata": {},
   "outputs": [
    {
     "name": "stderr",
     "output_type": "stream",
     "text": [
      "C:\\Users\\Laura\\AppData\\Local\\Temp\\ipykernel_832\\1394677314.py:2: SettingWithCopyWarning: \n",
      "A value is trying to be set on a copy of a slice from a DataFrame.\n",
      "Try using .loc[row_indexer,col_indexer] = value instead\n",
      "\n",
      "See the caveats in the documentation: https://pandas.pydata.org/pandas-docs/stable/user_guide/indexing.html#returning-a-view-versus-a-copy\n",
      "  df_filtrado.loc[:, 'campo_utilizado'] = df_filtrado['query_desc'].apply(extraer_campo)\n"
     ]
    }
   ],
   "source": [
    "# Aplicar la función para crear una nueva columna 'campos_utilzado'\n",
    "df_filtrado.loc[:, 'campo_utilizado'] = df_filtrado['query_desc'].apply(extraer_campo)"
   ]
  },
  {
   "cell_type": "code",
   "execution_count": 70,
   "metadata": {},
   "outputs": [],
   "source": [
    "# Pero como no se guardan todos los campos que utilizo el usuario, tendremos que realizar otra imputacion para estos casos\n",
    "df_auxiliar['contador'] = df_auxiliar['query_desc'].str.count(':')\n",
    "dos_puntos = df_auxiliar[df_auxiliar['contador'] > 1]"
   ]
  },
  {
   "cell_type": "code",
   "execution_count": 71,
   "metadata": {},
   "outputs": [],
   "source": [
    "# Imputación de los campos utilizados por los usuarios para hacer la busqueda\n",
    "df_filtrado.loc[5, 'campo_utilizado'] = (df_filtrado.loc[5, 'campo_utilizado'] + ', su-to')\n",
    "df_filtrado.loc[6, 'campo_utilizado'] = (df_filtrado.loc[6, 'campo_utilizado'] + ', su-to' + ', su-to')\n",
    "df_filtrado.loc[7, 'campo_utilizado'] = (df_filtrado.loc[7, 'campo_utilizado'] + ', su-to' + ', su-to' + ', su-to')\n",
    "df_filtrado.loc[8, 'campo_utilizado'] = (df_filtrado.loc[8, 'campo_utilizado'] + ', su-to' + ', su-to')\n",
    "df_filtrado.loc[9, 'campo_utilizado'] = (df_filtrado.loc[9, 'campo_utilizado'] + ', su-to')\n",
    "df_filtrado.loc[10, 'campo_utilizado'] = (df_filtrado.loc[10, 'campo_utilizado'] + ', su-to' + ', su-to')\n",
    "df_filtrado.loc[11, 'campo_utilizado'] = (df_filtrado.loc[11, 'campo_utilizado'] + ', su-to')\n",
    "df_filtrado.loc[29, 'campo_utilizado'] = (df_filtrado.loc[29, 'campo_utilizado'] + ', su-to')\n",
    "df_filtrado.loc[33, 'campo_utilizado'] = (df_filtrado.loc[33, 'campo_utilizado'] + ', itype')\n",
    "df_filtrado.loc[35, 'campo_utilizado'] = (df_filtrado.loc[35, 'campo_utilizado'] + ', itype')\n",
    "df_filtrado.loc[48, 'campo_utilizado'] = (df_filtrado.loc[48, 'campo_utilizado'] + ', mc-itype')\n",
    "df_filtrado.loc[49, 'campo_utilizado'] = (df_filtrado.loc[49, 'campo_utilizado'] + ', mc-itype' + ', mc-itype')\n",
    "df_filtrado.loc[111, 'campo_utilizado'] = (df_filtrado.loc[111, 'campo_utilizado'] + ', au')\n",
    "df_filtrado.loc[252, 'campo_utilizado'] = (df_filtrado.loc[252, 'campo_utilizado'] + ', I-format')\n",
    "df_filtrado.loc[256, 'campo_utilizado'] = (df_filtrado.loc[256, 'campo_utilizado'] + ', I-format')\n",
    "df_filtrado.loc[277, 'campo_utilizado'] = (df_filtrado.loc[277, 'campo_utilizado'] + ', su-to')\n",
    "df_filtrado.loc[288, 'campo_utilizado'] = (df_filtrado.loc[288, 'campo_utilizado'] + ', au')\n",
    "df_filtrado.loc[358, 'campo_utilizado'] = (df_filtrado.loc[358, 'campo_utilizado'] + ', ti'+ ', not au')\n",
    "df_filtrado.loc[368, 'campo_utilizado'] = (df_filtrado.loc[368, 'campo_utilizado'] + ', itype')\n",
    "df_filtrado.loc[374, 'campo_utilizado'] = (df_filtrado.loc[374, 'campo_utilizado'] + ', itype')\n",
    "df_filtrado.loc[395, 'campo_utilizado'] = (df_filtrado.loc[395, 'campo_utilizado'] + ', itype')\n",
    "df_filtrado.loc[397, 'campo_utilizado'] = (df_filtrado.loc[397, 'campo_utilizado'] + ', itype')\n",
    "df_filtrado.loc[429, 'campo_utilizado'] = (df_filtrado.loc[429, 'campo_utilizado'] + ', itype')\n",
    "df_filtrado.loc[431, 'campo_utilizado'] = (df_filtrado.loc[431, 'campo_utilizado'] + ', itype')\n",
    "df_filtrado.loc[432, 'campo_utilizado'] = (df_filtrado.loc[432, 'campo_utilizado'] + ', itype')\n",
    "df_filtrado.loc[444, 'campo_utilizado'] = (df_filtrado.loc[444, 'campo_utilizado'] + ', itype')\n",
    "df_filtrado.loc[453, 'campo_utilizado'] = (df_filtrado.loc[453, 'campo_utilizado'] + ', su')\n",
    "df_filtrado.loc[628, 'campo_utilizado'] = (df_filtrado.loc[628, 'campo_utilizado'] + ', au')\n",
    "df_filtrado.loc[636, 'campo_utilizado'] = (df_filtrado.loc[636, 'campo_utilizado'] + ', itype')\n",
    "df_filtrado.loc[637, 'campo_utilizado'] = (df_filtrado.loc[637, 'campo_utilizado'] + ', itype')\n",
    "df_filtrado.loc[649, 'campo_utilizado'] = (df_filtrado.loc[649, 'campo_utilizado'] + ', au')\n",
    "df_filtrado.loc[746, 'campo_utilizado'] = (df_filtrado.loc[746, 'campo_utilizado'] + ', itype')\n",
    "df_filtrado.loc[747, 'campo_utilizado'] = (df_filtrado.loc[747, 'campo_utilizado'] + ', itype')\n",
    "df_filtrado.loc[749, 'campo_utilizado'] = (df_filtrado.loc[749, 'campo_utilizado'] + ', itype')\n",
    "df_filtrado.loc[768, 'campo_utilizado'] = (df_filtrado.loc[768, 'campo_utilizado'] + ', itype')\n",
    "df_filtrado.loc[773, 'campo_utilizado'] = (df_filtrado.loc[773, 'campo_utilizado'] + ', su-to')\n",
    "df_filtrado.loc[774, 'campo_utilizado'] = (df_filtrado.loc[774, 'campo_utilizado'] + ', se')\n",
    "df_filtrado.loc[775, 'campo_utilizado'] = (df_filtrado.loc[775, 'campo_utilizado'] + ', itype')\n",
    "df_filtrado.loc[776, 'campo_utilizado'] = (df_filtrado.loc[776, 'campo_utilizado'] + ', itype')\n",
    "df_filtrado.loc[779, 'campo_utilizado'] = (df_filtrado.loc[779, 'campo_utilizado'] + ', au')\n",
    "df_filtrado.loc[780, 'campo_utilizado'] = (df_filtrado.loc[780, 'campo_utilizado'] + ', au')\n",
    "df_filtrado.loc[862, 'campo_utilizado'] = (df_filtrado.loc[862, 'campo_utilizado'] + ', itype')\n",
    "df_filtrado.loc[868, 'campo_utilizado'] = (df_filtrado.loc[868, 'campo_utilizado'] + ', su-to')\n",
    "df_filtrado.loc[869, 'campo_utilizado'] = (df_filtrado.loc[869, 'campo_utilizado'] + ', su-to')\n",
    "df_filtrado.loc[884, 'campo_utilizado'] = (df_filtrado.loc[884, 'campo_utilizado'] + ', su-to')\n",
    "df_filtrado.loc[964, 'campo_utilizado'] = (df_filtrado.loc[964, 'campo_utilizado'] + ', au')\n",
    "df_filtrado.loc[974, 'campo_utilizado'] = (df_filtrado.loc[974, 'campo_utilizado'] + ', su-to')\n",
    "df_filtrado.loc[975, 'campo_utilizado'] = (df_filtrado.loc[975, 'campo_utilizado'] + ', su-to')\n",
    "df_filtrado.loc[1117, 'campo_utilizado'] = (df_filtrado.loc[1117, 'campo_utilizado'] + ', au')\n",
    "df_filtrado.loc[1119, 'campo_utilizado'] = (df_filtrado.loc[1119, 'campo_utilizado'] + ', au')\n",
    "df_filtrado.loc[1131, 'campo_utilizado'] = (df_filtrado.loc[1131, 'campo_utilizado'] + ', au')\n",
    "df_filtrado.loc[1187, 'campo_utilizado'] = (df_filtrado.loc[1187, 'campo_utilizado'] + ', au')\n",
    "df_filtrado.loc[1188, 'campo_utilizado'] = (df_filtrado.loc[1188, 'campo_utilizado'] + ', au')\n",
    "df_filtrado.loc[1189, 'campo_utilizado'] = (df_filtrado.loc[1189, 'campo_utilizado'] + ', au' + ', mc-itype' + ', mc-itype')\n",
    "df_filtrado.loc[1196, 'campo_utilizado'] = (df_filtrado.loc[1196, 'campo_utilizado'] + ', su-to')\n",
    "df_filtrado.loc[1223, 'campo_utilizado'] = (df_filtrado.loc[1223, 'campo_utilizado'] + ', su-to')\n",
    "df_filtrado.loc[1273, 'campo_utilizado'] = (df_filtrado.loc[1273, 'campo_utilizado'] + ', su-to')\n",
    "df_filtrado.loc[1275, 'campo_utilizado'] = (df_filtrado.loc[1275, 'campo_utilizado'] + ', au')\n",
    "df_filtrado.loc[1302, 'campo_utilizado'] = (df_filtrado.loc[1302, 'campo_utilizado'] + ', kw' + ', mc-itype')\n",
    "df_filtrado.loc[1303, 'campo_utilizado'] = (df_filtrado.loc[1303, 'campo_utilizado'] + ', kw' + ', mc-itype')\n",
    "df_filtrado.loc[1304, 'campo_utilizado'] = (df_filtrado.loc[1304, 'campo_utilizado'] + ', mc-itype')\n",
    "df_filtrado.loc[1305, 'campo_utilizado'] = (df_filtrado.loc[1305, 'campo_utilizado'] + ', ti')\n",
    "df_filtrado.loc[1306, 'campo_utilizado'] = (df_filtrado.loc[1306, 'campo_utilizado'] + ', ti' + ', mc-itype' + ', mc-itype')\n",
    "df_filtrado.loc[1307, 'campo_utilizado'] = (df_filtrado.loc[1307, 'campo_utilizado'] + ', ti' + ', In')\n",
    "df_filtrado.loc[1384, 'campo_utilizado'] = (df_filtrado.loc[1384, 'campo_utilizado'] + ', su-to')\n",
    "df_filtrado.loc[1435, 'campo_utilizado'] = (df_filtrado.loc[1435, 'campo_utilizado'] + ', bx')\n",
    "df_filtrado.loc[1470, 'campo_utilizado'] = (df_filtrado.loc[1470, 'campo_utilizado'] + ', itype')\n",
    "df_filtrado.loc[1471, 'campo_utilizado'] = (df_filtrado.loc[1471, 'campo_utilizado'] + ', itype' + ', su-to')\n",
    "df_filtrado.loc[1472, 'campo_utilizado'] = (df_filtrado.loc[1472, 'campo_utilizado'] + ', itype' + ', su-to')\n",
    "df_filtrado.loc[1473, 'campo_utilizado'] = (df_filtrado.loc[1473, 'campo_utilizado'] + ', itype' + ', su-to')\n",
    "df_filtrado.loc[1474, 'campo_utilizado'] = (df_filtrado.loc[1474, 'campo_utilizado'] + ', itype' + ', su-to')\n",
    "df_filtrado.loc[1475, 'campo_utilizado'] = (df_filtrado.loc[1475, 'campo_utilizado'] + ', itype' + ', su-to' + ', au')\n",
    "df_filtrado.loc[1494, 'campo_utilizado'] = (df_filtrado.loc[1494, 'campo_utilizado'] + ', au')\n",
    "df_filtrado.loc[1593, 'campo_utilizado'] = (df_filtrado.loc[1593, 'campo_utilizado'] + ', itype')\n",
    "df_filtrado.loc[1594, 'campo_utilizado'] = (df_filtrado.loc[1594, 'campo_utilizado'] + ', itype')\n",
    "df_filtrado.loc[1596, 'campo_utilizado'] = (df_filtrado.loc[1596, 'campo_utilizado'] + ', kw')\n",
    "df_filtrado.loc[1597, 'campo_utilizado'] = (df_filtrado.loc[1597, 'campo_utilizado'] + ', kw' + ', mc-itype')\n",
    "df_filtrado.loc[1658, 'campo_utilizado'] = (df_filtrado.loc[1658, 'campo_utilizado'] + ', itype')\n",
    "df_filtrado.loc[1731, 'campo_utilizado'] = (df_filtrado.loc[1731, 'campo_utilizado'] + ', itype')\n",
    "df_filtrado.loc[1769, 'campo_utilizado'] = (df_filtrado.loc[1769, 'campo_utilizado'] + ', itype')\n",
    "df_filtrado.loc[1782, 'campo_utilizado'] = (df_filtrado.loc[1782, 'campo_utilizado'] + ', su-to')\n",
    "df_filtrado.loc[1841, 'campo_utilizado'] = (df_filtrado.loc[1841, 'campo_utilizado'] + ', itype')\n",
    "df_filtrado.loc[1842, 'campo_utilizado'] = (df_filtrado.loc[1842, 'campo_utilizado'] + ', itype')\n",
    "df_filtrado.loc[1845, 'campo_utilizado'] = (df_filtrado.loc[1845, 'campo_utilizado'] + ', itype')\n",
    "df_filtrado.loc[1880, 'campo_utilizado'] = (df_filtrado.loc[1880, 'campo_utilizado'] + ', itype')\n",
    "df_filtrado.loc[1961, 'campo_utilizado'] = (df_filtrado.loc[1961, 'campo_utilizado'] + ', mc-itype')\n",
    "df_filtrado.loc[1962, 'campo_utilizado'] = (df_filtrado.loc[1962, 'campo_utilizado'] + ', mc-itype')\n",
    "df_filtrado.loc[1968, 'campo_utilizado'] = (df_filtrado.loc[1968, 'campo_utilizado'] + ', itype')\n",
    "df_filtrado.loc[1969, 'campo_utilizado'] = (df_filtrado.loc[1969, 'campo_utilizado'] + ', itype')\n",
    "df_filtrado.loc[1978, 'campo_utilizado'] = (df_filtrado.loc[1978, 'campo_utilizado'] + ', itype')\n",
    "df_filtrado.loc[2045, 'campo_utilizado'] = (df_filtrado.loc[2045, 'campo_utilizado'] + ', au')\n",
    "df_filtrado.loc[2202, 'campo_utilizado'] = (df_filtrado.loc[2202, 'campo_utilizado'] + ', I-format')\n",
    "df_filtrado.loc[2206, 'campo_utilizado'] = (df_filtrado.loc[2206, 'campo_utilizado'] + ', itype')\n",
    "df_filtrado.loc[2217, 'campo_utilizado'] = (df_filtrado.loc[2217, 'campo_utilizado'] + ', itype')\n",
    "df_filtrado.loc[2219, 'campo_utilizado'] = (df_filtrado.loc[2219, 'campo_utilizado'] + ', itype')\n",
    "df_filtrado.loc[2239, 'campo_utilizado'] = (df_filtrado.loc[2239, 'campo_utilizado'] + ', au')\n",
    "df_filtrado.loc[2323, 'campo_utilizado'] = (df_filtrado.loc[2323, 'campo_utilizado'] + ', au')\n",
    "df_filtrado.loc[2365, 'campo_utilizado'] = (df_filtrado.loc[2365, 'campo_utilizado'] + ', mc-itype' + ', mc-itype')\n",
    "df_filtrado.loc[2379, 'campo_utilizado'] = (df_filtrado.loc[2379, 'campo_utilizado'] + ', itype')\n",
    "df_filtrado.loc[2427, 'campo_utilizado'] = (df_filtrado.loc[2427, 'campo_utilizado'] + ', itype')\n",
    "df_filtrado.loc[2474, 'campo_utilizado'] = (df_filtrado.loc[2474, 'campo_utilizado'] + ', au')\n",
    "df_filtrado.loc[2490, 'campo_utilizado'] = (df_filtrado.loc[2490, 'campo_utilizado'] + ', itype')\n",
    "df_filtrado.loc[2491, 'campo_utilizado'] = (df_filtrado.loc[2491, 'campo_utilizado'] + ', itype')\n",
    "df_filtrado.loc[2533, 'campo_utilizado'] = (df_filtrado.loc[2533, 'campo_utilizado'] + ', au')"
   ]
  },
  {
   "cell_type": "code",
   "execution_count": 74,
   "metadata": {},
   "outputs": [],
   "source": [
    "# Agregamos una nueva columna que contabilice la cantidad de campos utilizados por el usuario\n",
    "df_filtrado['cant_campos_utilizados'] = df_filtrado['campo_utilizado'].apply(lambda x: 0 if pd.isna(x) else x.count(',') + 1)"
   ]
  },
  {
   "cell_type": "code",
   "execution_count": null,
   "metadata": {},
   "outputs": [],
   "source": []
  },
  {
   "cell_type": "code",
   "execution_count": null,
   "metadata": {},
   "outputs": [],
   "source": []
  },
  {
   "cell_type": "code",
   "execution_count": null,
   "metadata": {},
   "outputs": [],
   "source": []
  },
  {
   "cell_type": "code",
   "execution_count": null,
   "metadata": {},
   "outputs": [],
   "source": []
  },
  {
   "cell_type": "code",
   "execution_count": null,
   "metadata": {},
   "outputs": [],
   "source": []
  },
  {
   "cell_type": "code",
   "execution_count": null,
   "metadata": {},
   "outputs": [],
   "source": []
  },
  {
   "cell_type": "code",
   "execution_count": 73,
   "metadata": {},
   "outputs": [],
   "source": [
    "# Hacer dos graficos con esta variable. Uno con los datos no generalizados y otro con los datos generalizados\n",
    "# La generalización es contar los usuarios que hicieron una busqueda fuera y dentro de la biblioteca\n",
    "\n",
    "# total_categorias_usuarios = df_auxiliar['categorycode'].value_counts().sort_index()\n",
    "# print(total_categorias_usuarios)"
   ]
  }
 ],
 "metadata": {
  "kernelspec": {
   "display_name": "Python 3",
   "language": "python",
   "name": "python3"
  },
  "language_info": {
   "codemirror_mode": {
    "name": "ipython",
    "version": 3
   },
   "file_extension": ".py",
   "mimetype": "text/x-python",
   "name": "python",
   "nbconvert_exporter": "python",
   "pygments_lexer": "ipython3",
   "version": "3.11.9"
  }
 },
 "nbformat": 4,
 "nbformat_minor": 2
}
