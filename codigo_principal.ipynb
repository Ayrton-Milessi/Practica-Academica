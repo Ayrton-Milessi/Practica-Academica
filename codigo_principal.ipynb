{
 "cells": [
  {
   "cell_type": "code",
   "execution_count": 112,
   "metadata": {},
   "outputs": [],
   "source": [
    "# Importamos las librerias que vamos a utilizar\n",
    "import matplotlib.pyplot as plt\n",
    "import pandas as pd\n",
    "import re\n",
    "#from funciones import extraer_campo"
   ]
  },
  {
   "cell_type": "code",
   "execution_count": 113,
   "metadata": {},
   "outputs": [],
   "source": [
    "# Creamos una lista de los campos de búsqueda\n",
    "campos_busqueda = ['kw', 'au', 'mc-itype', 'ti', 'an', 'itype', 'su', 'BC', 'bc', 'callnum', \n",
    "    'I-format', 'AU', 'an', 'se', 'In', 'bx', 'se', 'su-to', 'mc-itype,phr', 'l-format', 'Provider']\n",
    "\n",
    "# Creamos una expresión regular para encontrar los campos\n",
    "patrones = r'\\b(?:' + '|'.join(campos_busqueda) + r')\\b'\n",
    "\n",
    "# Funcion para extraer el campo de cada fila\n",
    "def extraer_campo(texto):\n",
    "    \"\"\"\n",
    "    Extrae un campo específico de un texto dado utilizando una expresión regular.\n",
    "    Args:\n",
    "        texto (str): El texto del cual se desea extraer el campo.\n",
    "    Returns:\n",
    "        str or None: El campo extraído si se encuentra una coincidencia, de lo contrario, None.\n",
    "    \"\"\"\n",
    "    match = re.search(patrones, texto)\n",
    "    return match.group(0) if match else None"
   ]
  },
  {
   "cell_type": "code",
   "execution_count": 114,
   "metadata": {},
   "outputs": [],
   "source": [
    "# Abrimos el archivo 'Estadisticas consultas catálogo-reportresults.csv' que contiene los datos de la busqueda de los usuarios en el sistema Koha\n",
    "data_frame = pd.read_csv(\"d:/Users/Laura/Desktop/Espacio Integrador II/3 - Practica Academica/Practica-Acad-mica/1 - archivos/Estadísticas consultas catálogo-reportresults.csv\", sep=';')"
   ]
  },
  {
   "cell_type": "markdown",
   "metadata": {},
   "source": [
    "### Identificación de las variables más importantes\n",
    "##### Se identificarán las variables que ayudarán a resolver nuestro problema"
   ]
  },
  {
   "cell_type": "code",
   "execution_count": 115,
   "metadata": {},
   "outputs": [
    {
     "data": {
      "text/html": [
       "<div>\n",
       "<style scoped>\n",
       "    .dataframe tbody tr th:only-of-type {\n",
       "        vertical-align: middle;\n",
       "    }\n",
       "\n",
       "    .dataframe tbody tr th {\n",
       "        vertical-align: top;\n",
       "    }\n",
       "\n",
       "    .dataframe thead th {\n",
       "        text-align: right;\n",
       "    }\n",
       "</style>\n",
       "<table border=\"1\" class=\"dataframe\">\n",
       "  <thead>\n",
       "    <tr style=\"text-align: right;\">\n",
       "      <th></th>\n",
       "      <th>sessionid</th>\n",
       "      <th>query_desc</th>\n",
       "      <th>total</th>\n",
       "      <th>time</th>\n",
       "      <th>categorycode</th>\n",
       "    </tr>\n",
       "  </thead>\n",
       "  <tbody>\n",
       "    <tr>\n",
       "      <th>0</th>\n",
       "      <td>8b973f78de404b6eb6548e4a229cb725</td>\n",
       "      <td>au,wrdl: bronzino</td>\n",
       "      <td>16</td>\n",
       "      <td>2018-10-17 15:27:49</td>\n",
       "      <td>DOCENTE</td>\n",
       "    </tr>\n",
       "    <tr>\n",
       "      <th>1</th>\n",
       "      <td>8b973f78de404b6eb6548e4a229cb725</td>\n",
       "      <td>au,wrdl: bronzino</td>\n",
       "      <td>16</td>\n",
       "      <td>2018-10-17 15:28:25</td>\n",
       "      <td>DOCENTE</td>\n",
       "    </tr>\n",
       "    <tr>\n",
       "      <th>2</th>\n",
       "      <td>8b973f78de404b6eb6548e4a229cb725</td>\n",
       "      <td>au,wrdl: webster</td>\n",
       "      <td>10</td>\n",
       "      <td>2018-10-17 15:29:51</td>\n",
       "      <td>DOCENTE</td>\n",
       "    </tr>\n",
       "    <tr>\n",
       "      <th>3</th>\n",
       "      <td>8b973f78de404b6eb6548e4a229cb725</td>\n",
       "      <td>au,wrdl: webster</td>\n",
       "      <td>10</td>\n",
       "      <td>2018-10-17 15:30:02</td>\n",
       "      <td>DOCENTE</td>\n",
       "    </tr>\n",
       "    <tr>\n",
       "      <th>4</th>\n",
       "      <td>8b973f78de404b6eb6548e4a229cb725</td>\n",
       "      <td>au,wrdl: webster</td>\n",
       "      <td>10</td>\n",
       "      <td>2018-10-17 15:30:13</td>\n",
       "      <td>DOCENTE</td>\n",
       "    </tr>\n",
       "  </tbody>\n",
       "</table>\n",
       "</div>"
      ],
      "text/plain": [
       "                          sessionid         query_desc  total  \\\n",
       "0  8b973f78de404b6eb6548e4a229cb725  au,wrdl: bronzino     16   \n",
       "1  8b973f78de404b6eb6548e4a229cb725  au,wrdl: bronzino     16   \n",
       "2  8b973f78de404b6eb6548e4a229cb725   au,wrdl: webster     10   \n",
       "3  8b973f78de404b6eb6548e4a229cb725   au,wrdl: webster     10   \n",
       "4  8b973f78de404b6eb6548e4a229cb725   au,wrdl: webster     10   \n",
       "\n",
       "                  time categorycode  \n",
       "0  2018-10-17 15:27:49      DOCENTE  \n",
       "1  2018-10-17 15:28:25      DOCENTE  \n",
       "2  2018-10-17 15:29:51      DOCENTE  \n",
       "3  2018-10-17 15:30:02      DOCENTE  \n",
       "4  2018-10-17 15:30:13      DOCENTE  "
      ]
     },
     "execution_count": 115,
     "metadata": {},
     "output_type": "execute_result"
    }
   ],
   "source": [
    "# Filtramos el data frame, nos quedaremos con las variables que resolverán nuestro problema\n",
    "df_filtrado = data_frame[['sessionid', 'query_desc', 'total', 'time', 'categorycode']]\n",
    "\n",
    "# Mostramos las primeras filas del data frame filtrado\n",
    "df_filtrado.head()"
   ]
  },
  {
   "cell_type": "markdown",
   "metadata": {},
   "source": [
    "### Etapa de limpieza"
   ]
  },
  {
   "cell_type": "code",
   "execution_count": 116,
   "metadata": {},
   "outputs": [
    {
     "name": "stdout",
     "output_type": "stream",
     "text": [
      "Cantidad de filas duplicadas eliminadas: 65\n"
     ]
    }
   ],
   "source": [
    "# Borramos valores duplicados en el data frame filtrado\n",
    "df_filtrado.drop_duplicates()\n",
    "\n",
    "print(\"Cantidad de filas duplicadas eliminadas:\", len(df_filtrado) - len(df_filtrado.drop_duplicates()))"
   ]
  },
  {
   "cell_type": "code",
   "execution_count": 117,
   "metadata": {},
   "outputs": [
    {
     "name": "stdout",
     "output_type": "stream",
     "text": [
      "<class 'pandas.core.frame.DataFrame'>\n",
      "RangeIndex: 2535 entries, 0 to 2534\n",
      "Data columns (total 5 columns):\n",
      " #   Column        Non-Null Count  Dtype \n",
      "---  ------        --------------  ----- \n",
      " 0   sessionid     2535 non-null   object\n",
      " 1   query_desc    2535 non-null   object\n",
      " 2   total         2535 non-null   int64 \n",
      " 3   time          2535 non-null   object\n",
      " 4   categorycode  2535 non-null   object\n",
      "dtypes: int64(1), object(4)\n",
      "memory usage: 99.2+ KB\n"
     ]
    }
   ],
   "source": [
    "# Nos fijamos si las columnas tienen algún valor nulo\n",
    "df_filtrado.info()\n",
    "\n",
    "# Podemos observar que de las 2535 filas ninguna posee valores nulos"
   ]
  },
  {
   "cell_type": "code",
   "execution_count": 118,
   "metadata": {},
   "outputs": [],
   "source": [
    "# Guardamos el DataFrame filtrado en un archivo CSV, para poder trabajar en otras ramas\n",
    "df_filtrado.to_csv('1 - archivos/df_filtrado.csv', index=False)"
   ]
  },
  {
   "cell_type": "markdown",
   "metadata": {},
   "source": [
    "### Imputación de los campos de búsqueda de los usuarios"
   ]
  },
  {
   "cell_type": "code",
   "execution_count": 119,
   "metadata": {},
   "outputs": [],
   "source": [
    "# Buscamos las búsquedas que no tienen un campo ingresado\n",
    "filas_sin_query = df_filtrado[~ df_filtrado['query_desc'].str.contains(patrones, na=False)]"
   ]
  },
  {
   "cell_type": "code",
   "execution_count": 120,
   "metadata": {},
   "outputs": [],
   "source": [
    "# Imputamos las filas que no tienen campos ingresados\n",
    "filas_sin_query.loc[filas_sin_query.index == 750, 'query_desc'] = filas_sin_query.loc[750, 'query_desc'].replace('robot', 'kw: robot')\n",
    "filas_sin_query.loc[filas_sin_query.index == 752, 'query_desc'] = filas_sin_query.loc[752, 'query_desc'].replace('robot', 'kw: robot')\n",
    "filas_sin_query.loc[filas_sin_query.index == 754, 'query_desc'] = filas_sin_query.loc[754, 'query_desc'].replace('da vinci', 'kw,wrdl: da vinci')\n",
    "filas_sin_query.loc[filas_sin_query.index == 756, 'query_desc'] = filas_sin_query.loc[756, 'query_desc'].replace('robotica', 'kw: robotica')"
   ]
  },
  {
   "cell_type": "code",
   "execution_count": 121,
   "metadata": {},
   "outputs": [],
   "source": [
    "# Actualizamos los valores de los campos de busqueda en el data frame principal\n",
    "df_filtrado.update(filas_sin_query)"
   ]
  },
  {
   "cell_type": "markdown",
   "metadata": {},
   "source": [
    "### Preparación de los datos para el análisis estadístico"
   ]
  },
  {
   "cell_type": "code",
   "execution_count": 122,
   "metadata": {},
   "outputs": [
    {
     "name": "stderr",
     "output_type": "stream",
     "text": [
      "C:\\Users\\Laura\\AppData\\Local\\Temp\\ipykernel_12524\\1394677314.py:2: SettingWithCopyWarning: \n",
      "A value is trying to be set on a copy of a slice from a DataFrame.\n",
      "Try using .loc[row_indexer,col_indexer] = value instead\n",
      "\n",
      "See the caveats in the documentation: https://pandas.pydata.org/pandas-docs/stable/user_guide/indexing.html#returning-a-view-versus-a-copy\n",
      "  df_filtrado.loc[:, 'campo_utilizado'] = df_filtrado['query_desc'].apply(extraer_campo)\n"
     ]
    }
   ],
   "source": [
    "# Aplicar la función para crear una nueva columna 'campos_utilzado'\n",
    "df_filtrado.loc[:, 'campo_utilizado'] = df_filtrado['query_desc'].apply(extraer_campo)"
   ]
  },
  {
   "cell_type": "code",
   "execution_count": 123,
   "metadata": {},
   "outputs": [],
   "source": [
    "# Pero como no se guardan todos los campos que utilizo el usuario, tendremos que realizar otra imputacion para estos casos\n",
    "df_filtrado['contador'] = df_filtrado['query_desc'].str.count(':')\n",
    "dos_puntos = df_filtrado[df_filtrado['contador'] > 1]\n",
    "df_filtrado.drop('contador', axis=1, inplace=True)"
   ]
  },
  {
   "cell_type": "code",
   "execution_count": 124,
   "metadata": {},
   "outputs": [],
   "source": [
    "# Imputación de los campos utilizados por los usuarios para hacer la busqueda\n",
    "df_filtrado.loc[5, 'campo_utilizado'] = (df_filtrado.loc[5, 'campo_utilizado'] + ', su-to')\n",
    "df_filtrado.loc[6, 'campo_utilizado'] = (df_filtrado.loc[6, 'campo_utilizado'] + ', su-to' + ', su-to')\n",
    "df_filtrado.loc[7, 'campo_utilizado'] = (df_filtrado.loc[7, 'campo_utilizado'] + ', su-to' + ', su-to' + ', su-to')\n",
    "df_filtrado.loc[8, 'campo_utilizado'] = (df_filtrado.loc[8, 'campo_utilizado'] + ', su-to' + ', su-to')\n",
    "df_filtrado.loc[9, 'campo_utilizado'] = (df_filtrado.loc[9, 'campo_utilizado'] + ', su-to')\n",
    "df_filtrado.loc[10, 'campo_utilizado'] = (df_filtrado.loc[10, 'campo_utilizado'] + ', su-to' + ', su-to')\n",
    "df_filtrado.loc[11, 'campo_utilizado'] = (df_filtrado.loc[11, 'campo_utilizado'] + ', su-to')\n",
    "df_filtrado.loc[29, 'campo_utilizado'] = (df_filtrado.loc[29, 'campo_utilizado'] + ', su-to')\n",
    "df_filtrado.loc[33, 'campo_utilizado'] = (df_filtrado.loc[33, 'campo_utilizado'] + ', mc-itype')\n",
    "df_filtrado.loc[35, 'campo_utilizado'] = (df_filtrado.loc[35, 'campo_utilizado'] + ', mc-itype')\n",
    "df_filtrado.loc[48, 'campo_utilizado'] = (df_filtrado.loc[48, 'campo_utilizado'] + ', mc-itype')\n",
    "df_filtrado.loc[49, 'campo_utilizado'] = (df_filtrado.loc[49, 'campo_utilizado'] + ', mc-itype' + ', mc-itype')\n",
    "df_filtrado.loc[111, 'campo_utilizado'] = (df_filtrado.loc[111, 'campo_utilizado'] + ', au')\n",
    "df_filtrado.loc[252, 'campo_utilizado'] = (df_filtrado.loc[252, 'campo_utilizado'] + ', l-format')\n",
    "df_filtrado.loc[256, 'campo_utilizado'] = (df_filtrado.loc[256, 'campo_utilizado'] + ', l-format')\n",
    "df_filtrado.loc[277, 'campo_utilizado'] = (df_filtrado.loc[277, 'campo_utilizado'] + ', su-to')\n",
    "df_filtrado.loc[288, 'campo_utilizado'] = (df_filtrado.loc[288, 'campo_utilizado'] + ', au')\n",
    "df_filtrado.loc[358, 'campo_utilizado'] = (df_filtrado.loc[358, 'campo_utilizado'] + ', ti'+ ', not au')\n",
    "df_filtrado.loc[368, 'campo_utilizado'] = (df_filtrado.loc[368, 'campo_utilizado'] + ', mc-itype')\n",
    "df_filtrado.loc[374, 'campo_utilizado'] = (df_filtrado.loc[374, 'campo_utilizado'] + ', mc-itype')\n",
    "df_filtrado.loc[395, 'campo_utilizado'] = (df_filtrado.loc[395, 'campo_utilizado'] + ', mc-itype')\n",
    "df_filtrado.loc[397, 'campo_utilizado'] = (df_filtrado.loc[397, 'campo_utilizado'] + ', mc-itype')\n",
    "df_filtrado.loc[429, 'campo_utilizado'] = (df_filtrado.loc[429, 'campo_utilizado'] + ', mc-itype')\n",
    "df_filtrado.loc[431, 'campo_utilizado'] = (df_filtrado.loc[431, 'campo_utilizado'] + ', mc-itype')\n",
    "df_filtrado.loc[432, 'campo_utilizado'] = (df_filtrado.loc[432, 'campo_utilizado'] + ', mc-itype')\n",
    "df_filtrado.loc[444, 'campo_utilizado'] = (df_filtrado.loc[444, 'campo_utilizado'] + ', mc-itype')\n",
    "df_filtrado.loc[453, 'campo_utilizado'] = (df_filtrado.loc[453, 'campo_utilizado'] + ', su')\n",
    "df_filtrado.loc[628, 'campo_utilizado'] = (df_filtrado.loc[628, 'campo_utilizado'] + ', au')\n",
    "df_filtrado.loc[636, 'campo_utilizado'] = (df_filtrado.loc[636, 'campo_utilizado'] + ', mc-itype')\n",
    "df_filtrado.loc[637, 'campo_utilizado'] = (df_filtrado.loc[637, 'campo_utilizado'] + ', mc-itype')\n",
    "df_filtrado.loc[649, 'campo_utilizado'] = (df_filtrado.loc[649, 'campo_utilizado'] + ', au')\n",
    "df_filtrado.loc[746, 'campo_utilizado'] = (df_filtrado.loc[746, 'campo_utilizado'] + ', mc-itype')\n",
    "df_filtrado.loc[747, 'campo_utilizado'] = (df_filtrado.loc[747, 'campo_utilizado'] + ', mc-itype')\n",
    "df_filtrado.loc[749, 'campo_utilizado'] = (df_filtrado.loc[749, 'campo_utilizado'] + ', mc-itype')\n",
    "df_filtrado.loc[768, 'campo_utilizado'] = (df_filtrado.loc[768, 'campo_utilizado'] + ', mc-itype')\n",
    "df_filtrado.loc[773, 'campo_utilizado'] = (df_filtrado.loc[773, 'campo_utilizado'] + ', su-to')\n",
    "df_filtrado.loc[774, 'campo_utilizado'] = (df_filtrado.loc[774, 'campo_utilizado'] + ', se')\n",
    "df_filtrado.loc[775, 'campo_utilizado'] = (df_filtrado.loc[775, 'campo_utilizado'] + ', mc-itype')\n",
    "df_filtrado.loc[776, 'campo_utilizado'] = (df_filtrado.loc[776, 'campo_utilizado'] + ', mc-itype')\n",
    "df_filtrado.loc[779, 'campo_utilizado'] = (df_filtrado.loc[779, 'campo_utilizado'] + ', au')\n",
    "df_filtrado.loc[780, 'campo_utilizado'] = (df_filtrado.loc[780, 'campo_utilizado'] + ', au')\n",
    "df_filtrado.loc[862, 'campo_utilizado'] = (df_filtrado.loc[862, 'campo_utilizado'] + ', mc-itype')\n",
    "df_filtrado.loc[868, 'campo_utilizado'] = (df_filtrado.loc[868, 'campo_utilizado'] + ', su-to')\n",
    "df_filtrado.loc[869, 'campo_utilizado'] = (df_filtrado.loc[869, 'campo_utilizado'] + ', su-to')\n",
    "df_filtrado.loc[884, 'campo_utilizado'] = (df_filtrado.loc[884, 'campo_utilizado'] + ', su-to')\n",
    "df_filtrado.loc[964, 'campo_utilizado'] = (df_filtrado.loc[964, 'campo_utilizado'] + ', au')\n",
    "df_filtrado.loc[974, 'campo_utilizado'] = (df_filtrado.loc[974, 'campo_utilizado'] + ', su-to')\n",
    "df_filtrado.loc[975, 'campo_utilizado'] = (df_filtrado.loc[975, 'campo_utilizado'] + ', su-to')\n",
    "df_filtrado.loc[1117, 'campo_utilizado'] = (df_filtrado.loc[1117, 'campo_utilizado'] + ', au')\n",
    "df_filtrado.loc[1119, 'campo_utilizado'] = (df_filtrado.loc[1119, 'campo_utilizado'] + ', au')\n",
    "df_filtrado.loc[1131, 'campo_utilizado'] = (df_filtrado.loc[1131, 'campo_utilizado'] + ', au')\n",
    "df_filtrado.loc[1187, 'campo_utilizado'] = (df_filtrado.loc[1187, 'campo_utilizado'] + ', au')\n",
    "df_filtrado.loc[1188, 'campo_utilizado'] = (df_filtrado.loc[1188, 'campo_utilizado'] + ', au')\n",
    "df_filtrado.loc[1189, 'campo_utilizado'] = (df_filtrado.loc[1189, 'campo_utilizado'] + ', au' + ', mc-itype' + ', mc-itype')\n",
    "df_filtrado.loc[1196, 'campo_utilizado'] = (df_filtrado.loc[1196, 'campo_utilizado'] + ', su-to')\n",
    "df_filtrado.loc[1223, 'campo_utilizado'] = (df_filtrado.loc[1223, 'campo_utilizado'] + ', su-to')\n",
    "df_filtrado.loc[1273, 'campo_utilizado'] = (df_filtrado.loc[1273, 'campo_utilizado'] + ', su-to')\n",
    "df_filtrado.loc[1275, 'campo_utilizado'] = (df_filtrado.loc[1275, 'campo_utilizado'] + ', au')\n",
    "df_filtrado.loc[1302, 'campo_utilizado'] = (df_filtrado.loc[1302, 'campo_utilizado'] + ', kw' + ', mc-itype')\n",
    "df_filtrado.loc[1303, 'campo_utilizado'] = (df_filtrado.loc[1303, 'campo_utilizado'] + ', kw' + ', mc-itype')\n",
    "df_filtrado.loc[1304, 'campo_utilizado'] = (df_filtrado.loc[1304, 'campo_utilizado'] + ', mc-itype')\n",
    "df_filtrado.loc[1305, 'campo_utilizado'] = (df_filtrado.loc[1305, 'campo_utilizado'] + ', ti')\n",
    "df_filtrado.loc[1306, 'campo_utilizado'] = (df_filtrado.loc[1306, 'campo_utilizado'] + ', ti' + ', mc-itype' + ', mc-itype')\n",
    "df_filtrado.loc[1307, 'campo_utilizado'] = (df_filtrado.loc[1307, 'campo_utilizado'] + ', ti' + ', In')\n",
    "df_filtrado.loc[1384, 'campo_utilizado'] = (df_filtrado.loc[1384, 'campo_utilizado'] + ', su-to')\n",
    "df_filtrado.loc[1435, 'campo_utilizado'] = (df_filtrado.loc[1435, 'campo_utilizado'] + ', bc')\n",
    "df_filtrado.loc[1470, 'campo_utilizado'] = (df_filtrado.loc[1470, 'campo_utilizado'] + ', mc-itype')\n",
    "df_filtrado.loc[1471, 'campo_utilizado'] = (df_filtrado.loc[1471, 'campo_utilizado'] + ', mc-itype' + ', su-to')\n",
    "df_filtrado.loc[1472, 'campo_utilizado'] = (df_filtrado.loc[1472, 'campo_utilizado'] + ', mc-itype' + ', su-to')\n",
    "df_filtrado.loc[1473, 'campo_utilizado'] = (df_filtrado.loc[1473, 'campo_utilizado'] + ', mc-itype' + ', su-to')\n",
    "df_filtrado.loc[1474, 'campo_utilizado'] = (df_filtrado.loc[1474, 'campo_utilizado'] + ', mc-itype' + ', su-to')\n",
    "df_filtrado.loc[1475, 'campo_utilizado'] = (df_filtrado.loc[1475, 'campo_utilizado'] + ', mc-itype' + ', su-to' + ', au')\n",
    "df_filtrado.loc[1494, 'campo_utilizado'] = (df_filtrado.loc[1494, 'campo_utilizado'] + ', au')\n",
    "df_filtrado.loc[1593, 'campo_utilizado'] = (df_filtrado.loc[1593, 'campo_utilizado'] + ', mc-itype')\n",
    "df_filtrado.loc[1594, 'campo_utilizado'] = (df_filtrado.loc[1594, 'campo_utilizado'] + ', mc-itype')\n",
    "df_filtrado.loc[1596, 'campo_utilizado'] = (df_filtrado.loc[1596, 'campo_utilizado'] + ', kw')\n",
    "df_filtrado.loc[1597, 'campo_utilizado'] = (df_filtrado.loc[1597, 'campo_utilizado'] + ', kw' + ', mc-itype')\n",
    "df_filtrado.loc[1658, 'campo_utilizado'] = (df_filtrado.loc[1658, 'campo_utilizado'] + ', mc-itype')\n",
    "df_filtrado.loc[1731, 'campo_utilizado'] = (df_filtrado.loc[1731, 'campo_utilizado'] + ', mc-itype')\n",
    "df_filtrado.loc[1769, 'campo_utilizado'] = (df_filtrado.loc[1769, 'campo_utilizado'] + ', mc-itype')\n",
    "df_filtrado.loc[1782, 'campo_utilizado'] = (df_filtrado.loc[1782, 'campo_utilizado'] + ', su-to')\n",
    "df_filtrado.loc[1841, 'campo_utilizado'] = (df_filtrado.loc[1841, 'campo_utilizado'] + ', mc-itype')\n",
    "df_filtrado.loc[1842, 'campo_utilizado'] = (df_filtrado.loc[1842, 'campo_utilizado'] + ', mc-itype')\n",
    "df_filtrado.loc[1845, 'campo_utilizado'] = (df_filtrado.loc[1845, 'campo_utilizado'] + ', mc-itype')\n",
    "df_filtrado.loc[1880, 'campo_utilizado'] = (df_filtrado.loc[1880, 'campo_utilizado'] + ', mc-itype')\n",
    "df_filtrado.loc[1961, 'campo_utilizado'] = (df_filtrado.loc[1961, 'campo_utilizado'] + ', mc-itype')\n",
    "df_filtrado.loc[1962, 'campo_utilizado'] = (df_filtrado.loc[1962, 'campo_utilizado'] + ', mc-itype')\n",
    "df_filtrado.loc[1968, 'campo_utilizado'] = (df_filtrado.loc[1968, 'campo_utilizado'] + ', mc-itype')\n",
    "df_filtrado.loc[1969, 'campo_utilizado'] = (df_filtrado.loc[1969, 'campo_utilizado'] + ', mc-itype')\n",
    "df_filtrado.loc[1978, 'campo_utilizado'] = (df_filtrado.loc[1978, 'campo_utilizado'] + ', mc-itype')\n",
    "df_filtrado.loc[2045, 'campo_utilizado'] = (df_filtrado.loc[2045, 'campo_utilizado'] + ', au')\n",
    "df_filtrado.loc[2202, 'campo_utilizado'] = (df_filtrado.loc[2202, 'campo_utilizado'] + ', l-format')\n",
    "df_filtrado.loc[2206, 'campo_utilizado'] = (df_filtrado.loc[2206, 'campo_utilizado'] + ', mc-itype')\n",
    "df_filtrado.loc[2217, 'campo_utilizado'] = (df_filtrado.loc[2217, 'campo_utilizado'] + ', mc-itype')\n",
    "df_filtrado.loc[2219, 'campo_utilizado'] = (df_filtrado.loc[2219, 'campo_utilizado'] + ', mc-itype')\n",
    "df_filtrado.loc[2239, 'campo_utilizado'] = (df_filtrado.loc[2239, 'campo_utilizado'] + ', au')\n",
    "df_filtrado.loc[2323, 'campo_utilizado'] = (df_filtrado.loc[2323, 'campo_utilizado'] + ', au')\n",
    "df_filtrado.loc[2365, 'campo_utilizado'] = (df_filtrado.loc[2365, 'campo_utilizado'] + ', mc-itype' + ', mc-itype')\n",
    "df_filtrado.loc[2379, 'campo_utilizado'] = (df_filtrado.loc[2379, 'campo_utilizado'] + ', mc-itype')\n",
    "df_filtrado.loc[2427, 'campo_utilizado'] = (df_filtrado.loc[2427, 'campo_utilizado'] + ', mc-itype')\n",
    "df_filtrado.loc[2474, 'campo_utilizado'] = (df_filtrado.loc[2474, 'campo_utilizado'] + ', au')\n",
    "df_filtrado.loc[2490, 'campo_utilizado'] = (df_filtrado.loc[2490, 'campo_utilizado'] + ', mc-itype')\n",
    "df_filtrado.loc[2491, 'campo_utilizado'] = (df_filtrado.loc[2491, 'campo_utilizado'] + ', mc-itype')\n",
    "df_filtrado.loc[2533, 'campo_utilizado'] = (df_filtrado.loc[2533, 'campo_utilizado'] + ', au')"
   ]
  },
  {
   "cell_type": "code",
   "execution_count": 126,
   "metadata": {},
   "outputs": [],
   "source": [
    "# Agregamos una nueva columna que contabilice la cantidad de campos utilizados por el usuario\n",
    "df_filtrado['cant_campos_utilizados'] = df_filtrado['campo_utilizado'].apply(lambda x: 0 if pd.isna(x) else x.count(',') + 1)"
   ]
  },
  {
   "cell_type": "code",
   "execution_count": 127,
   "metadata": {},
   "outputs": [],
   "source": [
    "df_filtrado['campo_utilizado'] = df_filtrado['campo_utilizado'].str.lower()"
   ]
  },
  {
   "cell_type": "code",
   "execution_count": 135,
   "metadata": {},
   "outputs": [
    {
     "name": "stdout",
     "output_type": "stream",
     "text": [
      "cant_campos_utilizados\n",
      "0       1\n",
      "1    2430\n",
      "2      86\n",
      "3      14\n",
      "4       4\n",
      "Name: count, dtype: int64\n"
     ]
    },
    {
     "data": {
      "image/png": "[encoded data removed]",
      "text/plain": [
       "<Figure size 1000x600 with 1 Axes>"
      ]
     },
     "metadata": {},
     "output_type": "display_data"
    }
   ],
   "source": [
    "# Contamos la cantidad de veces que se utiliza cada cantidad de campos\n",
    "cant_campos = df_filtrado['cant_campos_utilizados'].value_counts().sort_index()\n",
    "print(cant_campos)\n",
    "\n",
    "# Gráfico de barras para la cantidad de campos utilizados por los usuarios\n",
    "plt.figure(figsize=(10, 6))\n",
    "cant_campos.plot(kind='bar', color=plt.cm.tab20.colors)\n",
    "plt.xlabel('Cantidad de Campos Utilizados')\n",
    "plt.ylabel('Número de Usuarios')\n",
    "plt.title('Cantidad de Campos Utilizados por los Usuarios')\n",
    "plt.figtext(0.5, -0.05, 'Gráfico N°5\\nFuente de información propia', ha='center', va='center')\n",
    "plt.show()"
   ]
  },
  {
   "cell_type": "code",
   "execution_count": 129,
   "metadata": {},
   "outputs": [
    {
     "name": "stdout",
     "output_type": "stream",
     "text": [
      "kw          1808\n",
      "au           255\n",
      "mc-itype     206\n",
      "ti           134\n",
      "bc            65\n",
      "su            64\n",
      "an            64\n",
      "su-to         30\n",
      "callnum       23\n",
      "l-format       5\n",
      "se             3\n",
      "not au         1\n",
      "provider       1\n",
      "in             1\n",
      "Name: count, dtype: int64\n"
     ]
    },
    {
     "data": {
      "image/png": "[encoded data removed]",
      "text/plain": [
       "<Figure size 1200x800 with 1 Axes>"
      ]
     },
     "metadata": {},
     "output_type": "display_data"
    }
   ],
   "source": [
    "# Convertimos los campos a minúsculas y sumamos las frecuencias\n",
    "frecuencia_campos = df_filtrado['campo_utilizado'].str.lower().str.split(', ', expand=True).stack().value_counts()\n",
    "print(frecuencia_campos)\n",
    "\n",
    "# Gráfico de las frecuencias de los campos utilizados por los usuarios\n",
    "plt.figure(figsize=(12, 8))\n",
    "frecuencia_campos.plot(kind='bar')\n",
    "plt.xlabel('Campos Utilizados')\n",
    "plt.ylabel('Frecuencia')\n",
    "plt.title('Frecuencia de Campos Utilizados por los Usuarios')\n",
    "plt.figtext(0.5, -0.05, 'Gráfico N°6\\nFuente de información propia', ha='center', va='center')\n",
    "plt.show()"
   ]
  },
  {
   "cell_type": "code",
   "execution_count": 133,
   "metadata": {},
   "outputs": [
    {
     "data": {
      "image/png": "[encoded data removed]",
      "text/plain": [
       "<Figure size 1200x800 with 1 Axes>"
      ]
     },
     "metadata": {},
     "output_type": "display_data"
    }
   ],
   "source": [
    "# Filtramos la serie para excluir el campo 'kw'\n",
    "frecuencia_campos_sin_kw = frecuencia_campos.drop('kw')\n",
    "\n",
    "# Gráfico de las frecuencias de los campos utilizados por los usuarios sin 'kw'\n",
    "plt.figure(figsize=(12, 8))\n",
    "frecuencia_campos_sin_kw.plot(kind='bar', color=plt.cm.tab20.colors)\n",
    "plt.xlabel('Campos Utilizados')\n",
    "plt.ylabel('Frecuencia')\n",
    "plt.title('Frecuencia de Campos Utilizados por los Usuarios (sin \"kw\")')\n",
    "plt.figtext(0.5, -0.05, 'Gráfico N°7\\nFuente de información propia', ha='center', va='center')\n",
    "plt.show()"
   ]
  },
  {
   "cell_type": "code",
   "execution_count": 134,
   "metadata": {},
   "outputs": [
    {
     "data": {
      "text/plain": [
       "sessionid                 object\n",
       "query_desc                object\n",
       "total                      int64\n",
       "time                      object\n",
       "categorycode              object\n",
       "campo_utilizado           object\n",
       "cant_campos_utilizados     int64\n",
       "dtype: object"
      ]
     },
     "execution_count": 134,
     "metadata": {},
     "output_type": "execute_result"
    }
   ],
   "source": [
    "df_filtrado.dtypes"
   ]
  },
  {
   "cell_type": "code",
   "execution_count": 142,
   "metadata": {},
   "outputs": [
    {
     "data": {
      "text/html": [
       "<div>\n",
       "<style scoped>\n",
       "    .dataframe tbody tr th:only-of-type {\n",
       "        vertical-align: middle;\n",
       "    }\n",
       "\n",
       "    .dataframe tbody tr th {\n",
       "        vertical-align: top;\n",
       "    }\n",
       "\n",
       "    .dataframe thead th {\n",
       "        text-align: right;\n",
       "    }\n",
       "</style>\n",
       "<table border=\"1\" class=\"dataframe\">\n",
       "  <thead>\n",
       "    <tr style=\"text-align: right;\">\n",
       "      <th></th>\n",
       "      <th>sessionid</th>\n",
       "      <th>query_desc</th>\n",
       "      <th>total</th>\n",
       "      <th>time</th>\n",
       "      <th>categorycode</th>\n",
       "      <th>campo_utilizado</th>\n",
       "      <th>cant_campos_utilizados</th>\n",
       "    </tr>\n",
       "  </thead>\n",
       "  <tbody>\n",
       "    <tr>\n",
       "      <th>5</th>\n",
       "      <td>8b973f78de404b6eb6548e4a229cb725</td>\n",
       "      <td>au,wrdl: webster, su-to:ELECTRODOS</td>\n",
       "      <td>3</td>\n",
       "      <td>2018-10-17 15:30:56</td>\n",
       "      <td>DOCENTE</td>\n",
       "      <td>au, su-to</td>\n",
       "      <td>2</td>\n",
       "    </tr>\n",
       "    <tr>\n",
       "      <th>6</th>\n",
       "      <td>8b973f78de404b6eb6548e4a229cb725</td>\n",
       "      <td>au,wrdl: webster, su-to:ELECTRODOS su-to:INSTR...</td>\n",
       "      <td>3</td>\n",
       "      <td>2018-10-17 15:31:10</td>\n",
       "      <td>DOCENTE</td>\n",
       "      <td>au, su-to, su-to</td>\n",
       "      <td>3</td>\n",
       "    </tr>\n",
       "    <tr>\n",
       "      <th>7</th>\n",
       "      <td>8b973f78de404b6eb6548e4a229cb725</td>\n",
       "      <td>au,wrdl: webster, su-to:ELECTRODOS su-to:INSTR...</td>\n",
       "      <td>3</td>\n",
       "      <td>2018-10-17 15:31:33</td>\n",
       "      <td>DOCENTE</td>\n",
       "      <td>au, su-to, su-to, su-to</td>\n",
       "      <td>4</td>\n",
       "    </tr>\n",
       "    <tr>\n",
       "      <th>8</th>\n",
       "      <td>8b973f78de404b6eb6548e4a229cb725</td>\n",
       "      <td>au,wrdl: webster, su-to:INSTRUMENTACION su-to:...</td>\n",
       "      <td>3</td>\n",
       "      <td>2018-10-17 15:31:48</td>\n",
       "      <td>DOCENTE</td>\n",
       "      <td>au, su-to, su-to</td>\n",
       "      <td>3</td>\n",
       "    </tr>\n",
       "    <tr>\n",
       "      <th>9</th>\n",
       "      <td>8b973f78de404b6eb6548e4a229cb725</td>\n",
       "      <td>au,wrdl: webster, su-to:INSTRUMENTACION</td>\n",
       "      <td>4</td>\n",
       "      <td>2018-10-17 15:31:52</td>\n",
       "      <td>DOCENTE</td>\n",
       "      <td>au, su-to</td>\n",
       "      <td>2</td>\n",
       "    </tr>\n",
       "    <tr>\n",
       "      <th>...</th>\n",
       "      <td>...</td>\n",
       "      <td>...</td>\n",
       "      <td>...</td>\n",
       "      <td>...</td>\n",
       "      <td>...</td>\n",
       "      <td>...</td>\n",
       "      <td>...</td>\n",
       "    </tr>\n",
       "    <tr>\n",
       "      <th>2427</th>\n",
       "      <td>b1854fc1cc85576d14c2e59f0a08cdb2</td>\n",
       "      <td>kw,wrdl: boyce, itype:LIB</td>\n",
       "      <td>4</td>\n",
       "      <td>2024-07-01 10:38:41</td>\n",
       "      <td>BIBLIOTECA</td>\n",
       "      <td>kw, mc-itype</td>\n",
       "      <td>2</td>\n",
       "    </tr>\n",
       "    <tr>\n",
       "      <th>2474</th>\n",
       "      <td>e1e27cb6755ffaf9f950fbe850f5b997</td>\n",
       "      <td>, mc-itype:TE au:Aldonate, Julio A.</td>\n",
       "      <td>2</td>\n",
       "      <td>2024-08-19 16:37:12</td>\n",
       "      <td>BIBLIOTECA</td>\n",
       "      <td>mc-itype, au</td>\n",
       "      <td>2</td>\n",
       "    </tr>\n",
       "    <tr>\n",
       "      <th>2490</th>\n",
       "      <td>7db614a0c101381bddd27e7f3bacf7c2</td>\n",
       "      <td>kw,wrdl: tratamiento digital de imagenes, ityp...</td>\n",
       "      <td>2</td>\n",
       "      <td>2024-08-26 13:06:00</td>\n",
       "      <td>BIBLIOTECA</td>\n",
       "      <td>kw, mc-itype</td>\n",
       "      <td>2</td>\n",
       "    </tr>\n",
       "    <tr>\n",
       "      <th>2491</th>\n",
       "      <td>7db614a0c101381bddd27e7f3bacf7c2</td>\n",
       "      <td>kw,wrdl: tratamiento digital de imagenes, ityp...</td>\n",
       "      <td>2</td>\n",
       "      <td>2024-08-26 13:36:38</td>\n",
       "      <td>BIBLIOTECA</td>\n",
       "      <td>kw, mc-itype</td>\n",
       "      <td>2</td>\n",
       "    </tr>\n",
       "    <tr>\n",
       "      <th>2533</th>\n",
       "      <td>dec29d416a05986b589049be67cb818e</td>\n",
       "      <td>kw,wrdl: Anatomía, au:Sobotta, Johannes</td>\n",
       "      <td>4</td>\n",
       "      <td>2024-09-03 15:28:33</td>\n",
       "      <td>BIBLIOTECA</td>\n",
       "      <td>kw, au</td>\n",
       "      <td>2</td>\n",
       "    </tr>\n",
       "  </tbody>\n",
       "</table>\n",
       "<p>104 rows × 7 columns</p>\n",
       "</div>"
      ],
      "text/plain": [
       "                             sessionid  \\\n",
       "5     8b973f78de404b6eb6548e4a229cb725   \n",
       "6     8b973f78de404b6eb6548e4a229cb725   \n",
       "7     8b973f78de404b6eb6548e4a229cb725   \n",
       "8     8b973f78de404b6eb6548e4a229cb725   \n",
       "9     8b973f78de404b6eb6548e4a229cb725   \n",
       "...                                ...   \n",
       "2427  b1854fc1cc85576d14c2e59f0a08cdb2   \n",
       "2474  e1e27cb6755ffaf9f950fbe850f5b997   \n",
       "2490  7db614a0c101381bddd27e7f3bacf7c2   \n",
       "2491  7db614a0c101381bddd27e7f3bacf7c2   \n",
       "2533  dec29d416a05986b589049be67cb818e   \n",
       "\n",
       "                                             query_desc  total  \\\n",
       "5                    au,wrdl: webster, su-to:ELECTRODOS      3   \n",
       "6     au,wrdl: webster, su-to:ELECTRODOS su-to:INSTR...      3   \n",
       "7     au,wrdl: webster, su-to:ELECTRODOS su-to:INSTR...      3   \n",
       "8     au,wrdl: webster, su-to:INSTRUMENTACION su-to:...      3   \n",
       "9               au,wrdl: webster, su-to:INSTRUMENTACION      4   \n",
       "...                                                 ...    ...   \n",
       "2427                          kw,wrdl: boyce, itype:LIB      4   \n",
       "2474                , mc-itype:TE au:Aldonate, Julio A.      2   \n",
       "2490  kw,wrdl: tratamiento digital de imagenes, ityp...      2   \n",
       "2491  kw,wrdl: tratamiento digital de imagenes, ityp...      2   \n",
       "2533            kw,wrdl: Anatomía, au:Sobotta, Johannes      4   \n",
       "\n",
       "                     time categorycode          campo_utilizado  \\\n",
       "5     2018-10-17 15:30:56      DOCENTE                au, su-to   \n",
       "6     2018-10-17 15:31:10      DOCENTE         au, su-to, su-to   \n",
       "7     2018-10-17 15:31:33      DOCENTE  au, su-to, su-to, su-to   \n",
       "8     2018-10-17 15:31:48      DOCENTE         au, su-to, su-to   \n",
       "9     2018-10-17 15:31:52      DOCENTE                au, su-to   \n",
       "...                   ...          ...                      ...   \n",
       "2427  2024-07-01 10:38:41   BIBLIOTECA             kw, mc-itype   \n",
       "2474  2024-08-19 16:37:12   BIBLIOTECA             mc-itype, au   \n",
       "2490  2024-08-26 13:06:00   BIBLIOTECA             kw, mc-itype   \n",
       "2491  2024-08-26 13:36:38   BIBLIOTECA             kw, mc-itype   \n",
       "2533  2024-09-03 15:28:33   BIBLIOTECA                   kw, au   \n",
       "\n",
       "      cant_campos_utilizados  \n",
       "5                          2  \n",
       "6                          3  \n",
       "7                          4  \n",
       "8                          3  \n",
       "9                          2  \n",
       "...                      ...  \n",
       "2427                       2  \n",
       "2474                       2  \n",
       "2490                       2  \n",
       "2491                       2  \n",
       "2533                       2  \n",
       "\n",
       "[104 rows x 7 columns]"
      ]
     },
     "execution_count": 142,
     "metadata": {},
     "output_type": "execute_result"
    }
   ],
   "source": [
    "combinaciones_campos = df_filtrado[df_filtrado['cant_campos_utilizados'] > 1]\n",
    "\n",
    "combinaciones_campos\n",
    "\n",
    "# combinaciones_campos = combinaciones_campos['campo_utilizado'].str.split(', ', expand=True).stack().value_counts()\n",
    "\n",
    "\n",
    "# plt.figure(figsize=(12, 8))\n",
    "# combinaciones_campos.plot(kind='bar', color=plt.cm.tab20.colors)\n",
    "# plt.xlabel('Campos Utilizados')\n",
    "# plt.ylabel('Frecuencia')\n",
    "# plt.title('Frecuencia de Campos Utilizados por los Usuarios (sin \"kw\")')\n",
    "# plt.figtext(0.5, -0.05, 'Gráfico N°7\\nFuente de información propia', ha='center', va='center')\n",
    "# plt.show()"
   ]
  },
  {
   "cell_type": "code",
   "execution_count": 73,
   "metadata": {},
   "outputs": [],
   "source": []
  }
 ],
 "metadata": {
  "kernelspec": {
   "display_name": "Python 3",
   "language": "python",
   "name": "python3"
  },
  "language_info": {
   "codemirror_mode": {
    "name": "ipython",
    "version": 3
   },
   "file_extension": ".py",
   "mimetype": "text/x-python",
   "name": "python",
   "nbconvert_exporter": "python",
   "pygments_lexer": "ipython3",
   "version": "3.11.9"
  }
 },
 "nbformat": 4,
 "nbformat_minor": 2
}
