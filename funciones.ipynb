{
 "cells": [
  {
   "cell_type": "code",
   "execution_count": 1,
   "metadata": {},
   "outputs": [],
   "source": [
    "import re\n",
    "# Creamos una lista de los campos de búsqueda\n",
    "campos_busqueda = ['kw', 'au', 'mc-itype', 'ti', 'an', 'itype', 'su', 'BC', 'bc', 'callnum', \n",
    "    'I-format', 'AU', 'an', 'se', 'In', 'bx', 'se', 'su-to', 'mc-itype,phr', 'l-format', 'Provider']\n",
    "\n",
    "# Creamos una expresión regular para encontrar los campos\n",
    "patrones = r'\\b(?:' + '|'.join(campos_busqueda) + r')\\b'\n",
    "\n",
    "# Funcion para extraer el campo de cada fila\n",
    "def extraer_campo(texto):\n",
    "    \"\"\"\n",
    "    Extrae un campo específico de un texto dado utilizando una expresión regular.\n",
    "    Args:\n",
    "        texto (str): El texto del cual se desea extraer el campo.\n",
    "    Returns:\n",
    "        str or None: El campo extraído si se encuentra una coincidencia, de lo contrario, None.\n",
    "    \"\"\"\n",
    "    match = re.search(patrones, texto)\n",
    "    return match.group(0) if match else None"
   ]
  },
  {
   "cell_type": "code",
   "execution_count": null,
   "metadata": {},
   "outputs": [],
   "source": [
    "# Funcion para extraer la sintaxis de cada fila\n",
    "def extraer_sintaxis(texto):\n",
    "    \"\"\"\n",
    "    Extrae la sintaxis de cada búsqueda de los usuarios.\n",
    "    Args:\n",
    "        texto (str): El texto de la búsqueda.\n",
    "    Returns:\n",
    "        str: La sintaxis extraída.\n",
    "    \"\"\"\n",
    "    sintaxis = re.findall(r':\\s*([^,]+)', texto)\n",
    "    return ', '.join(sintaxis)"
   ]
  },
  {
   "cell_type": "code",
   "execution_count": null,
   "metadata": {},
   "outputs": [],
   "source": [
    "# Lista de campos que necesitan un número\n",
    "campos_necesitan_numero = ['an', 'bc', 'callnum']\n",
    "\n",
    "# Función para verificar si el campo necesita un número y el usuario ingresó un string\n",
    "def verificar_error_campo(row):\n",
    "    if len(row['sintaxis']) == 0 or row['sintaxis'] == ' ' or row['sintaxis'] == None:\n",
    "        return 'usuario no ingreso nada'\n",
    "    elif row['campo_utilizado'] in campos_necesitan_numero and not row['sintaxis'].isdigit():\n",
    "        return 'campo incorrecto'\n",
    "    return ''"
   ]
  }
 ],
 "metadata": {
  "kernelspec": {
   "display_name": "Python 3",
   "language": "python",
   "name": "python3"
  },
  "language_info": {
   "codemirror_mode": {
    "name": "ipython",
    "version": 3
   },
   "file_extension": ".py",
   "mimetype": "text/x-python",
   "name": "python",
   "nbconvert_exporter": "python",
   "pygments_lexer": "ipython3",
   "version": "3.11.9"
  }
 },
 "nbformat": 4,
 "nbformat_minor": 2
}
