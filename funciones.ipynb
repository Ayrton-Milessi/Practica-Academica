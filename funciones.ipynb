{
 "cells": [
  {
   "cell_type": "code",
   "execution_count": 2,
   "metadata": {},
   "outputs": [],
   "source": [
    "import re\n",
    "# Creamos una lista de los campos de búsqueda\n",
    "campos_busqueda = ['kw', 'au', 'mc-itype', 'ti', 'an', 'itype', 'su', 'BC', 'bc', 'callnum', \n",
    "    'I-format', 'AU', 'YE', 'an', 'se', 'In', 'bx', 'se', 'su-to', 'mc-itype,phr', 'l-format', 'Provider']\n",
    "\n",
    "# Creamos una expresión regular para encontrar los campos\n",
    "patrones = r'\\b(?:' + '|'.join(campos_busqueda) + r')\\b'\n",
    "\n",
    "# Funcion para extraer el campo de cada fila\n",
    "def extraer_campo(texto):\n",
    "    \"\"\"\n",
    "    Extrae un campo específico de un texto dado utilizando una expresión regular.\n",
    "    Args:\n",
    "        texto (str): El texto del cual se desea extraer el campo.\n",
    "    Returns:\n",
    "        str or None: El campo extraído si se encuentra una coincidencia, de lo contrario, None.\n",
    "    \"\"\"\n",
    "    match = re.search(patrones, texto)\n",
    "    return match.group(0) if match else None"
   ]
  },
  {
   "cell_type": "code",
   "execution_count": null,
   "metadata": {},
   "outputs": [],
   "source": []
  }
 ],
 "metadata": {
  "kernelspec": {
   "display_name": "Python 3",
   "language": "python",
   "name": "python3"
  },
  "language_info": {
   "codemirror_mode": {
    "name": "ipython",
    "version": 3
   },
   "file_extension": ".py",
   "mimetype": "text/x-python",
   "name": "python",
   "nbconvert_exporter": "python",
   "pygments_lexer": "ipython3",
   "version": "3.11.9"
  }
 },
 "nbformat": 4,
 "nbformat_minor": 2
}
