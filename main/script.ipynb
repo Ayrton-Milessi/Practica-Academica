{
 "cells": [
  {
   "cell_type": "code",
   "execution_count": 1,
   "metadata": {},
   "outputs": [],
   "source": [
    "import pandas as pd"
   ]
  },
  {
   "cell_type": "code",
   "execution_count": 2,
   "metadata": {},
   "outputs": [],
   "source": [
    "data_frame = pd.read_csv(\"d:/Users/Laura/Desktop/Espacio Integrador II/3 - Practica Academica/Practica-Acad-mica/datos/Estadísticas consultas catálogo-reportresults.csv\", sep=';')"
   ]
  },
  {
   "cell_type": "markdown",
   "metadata": {},
   "source": [
    "#### Descripción de las columnas del archivo:\n",
    "* sessionid    ---> identificador del inicio de sesión.\n",
    "* query_desc   ---> campos utilizados en la búsqueda.\n",
    "* type         ---> ('biblio', 'authority')\n",
    "* total        ---> cantidad de registros que devuelve el sistema con los terminos ingresados.\n",
    "* time         ---> fecha y hora de la búsqueda.\n",
    "* branchcode   ---> identificador de la Facultad de Ingenieria('FING')\n",
    "* categorycode ---> identificadores de la persona que hace la búsqueda, si es docente, de biblioteca, egresado , invitado de otra facultad,alumno de intercambio, etc. ('DOCENTE', 'BIBLIOTECA', 'TEC_MED_N', 'BIOINGENIE', 'TEC_PROD_M', 'HIST', 'S', 'INVI', 'AGRO', 'INTERALUM', 'BIOINF')"
   ]
  },
  {
   "cell_type": "markdown",
   "metadata": {},
   "source": [
    "### Explicación de los campos de búsqueda \n",
    "* au ---> autor \n",
    "* kw ---> \n",
    "* su ---> subject, contenido del material\n",
    "* se --->  \n",
    "* an ---> autoridad registrada en el sistema. Asocia un numero con un autor\n",
    "* callnun ---> un numero del estante en la biblioteca\n",
    "* ti ---> titulo del material\n",
    "* an ---> \n",
    "* mc-itype.phr --->\n",
    "* I-format ---> que el material esta en linea\n",
    "* mc-itype ---> el tipo de material que es (libro, resvista, etc)\n",
    "* bc ---> equivalente al codigo de barras, nombre del inventario\n",
    "* mc-itype:TE --->  alguien que busco una tesis"
   ]
  },
  {
   "cell_type": "code",
   "execution_count": 3,
   "metadata": {},
   "outputs": [],
   "source": [
    "# Se eliminan los registros duplicados\n",
    "data_frame = data_frame.drop_duplicates()\n",
    "\n",
    "# Pasamos de tener 2535 cantidad de filas a tener 2470 registros, eliminando 65 resgistros duplicados"
   ]
  },
  {
   "cell_type": "code",
   "execution_count": 4,
   "metadata": {},
   "outputs": [
    {
     "name": "stdout",
     "output_type": "stream",
     "text": [
      "<class 'pandas.core.frame.DataFrame'>\n",
      "Index: 2470 entries, 0 to 2534\n",
      "Data columns (total 7 columns):\n",
      " #   Column        Non-Null Count  Dtype \n",
      "---  ------        --------------  ----- \n",
      " 0   sessionid     2470 non-null   object\n",
      " 1   query_desc    2470 non-null   object\n",
      " 2   type          2470 non-null   object\n",
      " 3   total         2470 non-null   int64 \n",
      " 4   time          2470 non-null   object\n",
      " 5   branchcode    2470 non-null   object\n",
      " 6   categorycode  2470 non-null   object\n",
      "dtypes: int64(1), object(6)\n",
      "memory usage: 154.4+ KB\n"
     ]
    }
   ],
   "source": [
    "# Nos fijamos si las columnas tienen algún valor nulo\n",
    "data_frame.info()\n",
    "\n",
    "# Podemos observar que de las 2470 filas resultantes, ninguna posee valores nulos"
   ]
  },
  {
   "cell_type": "code",
   "execution_count": 5,
   "metadata": {},
   "outputs": [],
   "source": [
    "# Extraemos la columnas 'query_desc' para extraer solo los campos utilizados\n",
    "campos_busqueda = data_frame['query_desc']"
   ]
  },
  {
   "cell_type": "code",
   "execution_count": 7,
   "metadata": {},
   "outputs": [
    {
     "name": "stdout",
     "output_type": "stream",
     "text": [
      "Counter({'kw': 1752, 'au': 225, '': 138, 'ti': 124, 'su': 60, 'an': 53, 'BC': 34, 'bc': 29, 'callnum': 23, 'mc-itype': 10, 'LIB su-to': 8, 'webster': 7, 'LIB itype': 6, 'biologia': 4, 'exoesqueleto': 4, 'INSTRUMENTACION su-to': 3, 'LIB l-format': 3, 'inmunologia': 3, 'robot': 3, 'James Stewart and ti': 3, 'AU': 3, 'fisica univ': 3, 'ELECTRODOS su-to': 2, 'se': 2, 'AP or mc-itype': 2, 'software': 2, 'Inteligencia Artificial': 2, 'quadri': 2, 'precalculo and au': 2, 'cálculo en una variable and au': 2, 'LIB or mc-itype': 2, 'James Stewart and kw': 2, 'cálculo en una variable': 2, 'cálculo de una variable': 2, 'genética': 2, 'genética and kw': 2, 'poster': 2, 'cengel': 2, 'tratamiento digital de imagenes': 2, 'c++': 1, 'IEC 60601-2-21': 1, 'IEC': 1, 'NOTICIA or mc-itype': 1, 'cooper': 1, 'l-format': 1, 'matlab': 1, 'Kaplan': 1, 'celula or ti': 1, 'biología celular not au': 1, 'ross': 1, 'Cooper': 1, 'biomateriale': 1, 'biomateriales': 1, 'NORMA ISO 13485': 1, 'revista transporte': 1, 'microscopia and su': 1, 'transactions on biomedical': 1, 'LIB au': 1, 'maestria': 1, 'RL itype': 1, 'anatomia': 1, 'quimica general': 1, 'Provider': 1, 'anatomía': 1, 'James stewart': 1, 'Artificial Intelligence': 1, 'rouviere': 1, 'James Stewart': 1, 'alonso': 1, 'bx': 1, 'MATEMATICAS au': 1, 'fisica': 1, 'Biomedical devices': 1, 'exactamente': 1, 'Fisiología médica': 1, 'matematicas': 1, 'WALLPOLE': 1, 'mosca': 1, 'ísica universitaria': 1, 'Física': 1, 'radi': 1, 'hib': 1, 'parkinson and itype': 1, 'FICCION au': 1, 'calculo': 1, 'mamografia': 1, 'TESINA or mc-itype': 1, 'Electrónica': 1, 'microscopía': 1, 'boyce': 1, 'TE au': 1, 'Análisis de Circuitos': 1, 'Anatomía': 1})\n"
     ]
    }
   ],
   "source": [
    "import re\n",
    "from collections import Counter\n",
    "\n",
    "# Función para separar la consulta según los dos puntos (:) y extraer los campos antes del primer :\n",
    "def extraer_campos(consulta):\n",
    "    # Divide la consulta por los dos puntos ':'\n",
    "    partes = re.split(r':', consulta)\n",
    "    # Extrae la parte anterior al primer ':' en cada fragmento\n",
    "    campos = [parte.split(',')[0].strip() for parte in partes[:-1]]  # Ignoramos la última parte (después del último ':')\n",
    "    return campos\n",
    "\n",
    "# Aplicar la función a cada fila y juntar todos los campos en una lista\n",
    "todos_los_campos = data_frame['query_desc'].apply(extraer_campos).sum()\n",
    "\n",
    "# Contar las ocurrencias de cada campo\n",
    "conteo_campos = Counter(todos_los_campos)\n",
    "\n",
    "# Mostrar el resultado\n",
    "print(conteo_campos)\n"
   ]
  },
  {
   "cell_type": "code",
   "execution_count": 9,
   "metadata": {},
   "outputs": [
    {
     "name": "stdout",
     "output_type": "stream",
     "text": [
      "0                 [au]\n",
      "1                 [au]\n",
      "2                 [au]\n",
      "3                 [au]\n",
      "4                 [au]\n",
      "             ...      \n",
      "2530              [kw]\n",
      "2531              [kw]\n",
      "2532              [kw]\n",
      "2533    [kw, Anatomía]\n",
      "2534              [kw]\n",
      "Name: campos_utilizados, Length: 2470, dtype: object\n"
     ]
    }
   ],
   "source": [
    "data_frame['campos_utilizados'] = data_frame['query_desc'].apply(extraer_campos)\n",
    "print(data_frame['campos_utilizados'])\n"
   ]
  },
  {
   "cell_type": "code",
   "execution_count": null,
   "metadata": {},
   "outputs": [],
   "source": []
  }
 ],
 "metadata": {
  "kernelspec": {
   "display_name": "Python 3",
   "language": "python",
   "name": "python3"
  },
  "language_info": {
   "codemirror_mode": {
    "name": "ipython",
    "version": 3
   },
   "file_extension": ".py",
   "mimetype": "text/x-python",
   "name": "python",
   "nbconvert_exporter": "python",
   "pygments_lexer": "ipython3",
   "version": "3.11.9"
  }
 },
 "nbformat": 4,
 "nbformat_minor": 2
}
