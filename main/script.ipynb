{
 "cells": [
  {
   "cell_type": "code",
   "execution_count": 29,
   "metadata": {},
   "outputs": [],
   "source": [
    "# Importamos las librerias que vamos a utilizar\n",
    "import pandas as pd\n",
    "import matplotlib.pyplot as plt\n",
    "import re"
   ]
  },
  {
   "cell_type": "code",
   "execution_count": 30,
   "metadata": {},
   "outputs": [],
   "source": [
    "# Creamos una lista de los campos de búsqueda\n",
    "campos_busqueda = ['kw', 'au', 'mc-itype', 'ti', 'an', 'itype', 'su', 'BC', 'bc', 'callnum', \n",
    "    'I-format', 'AU', 'YE', 'an', 'se', 'In', 'bx', 'se', 'su-to', 'mc-itype,phr', 'l-format', 'Provider']\n",
    "\n",
    "# Creamos una expresión regular para conectar los campos\n",
    "pattern = r'\\b(?:' + '|'.join(campos_busqueda) + r')\\b'\n",
    "\n",
    "# Funcion para extraer el campo de cada fila\n",
    "def extraer_campo(texto):\n",
    "    match = re.search(pattern, texto)\n",
    "    return match.group(0) if match else None"
   ]
  },
  {
   "cell_type": "code",
   "execution_count": 31,
   "metadata": {},
   "outputs": [],
   "source": [
    "# Abrimos el archivo 'Estadisticas consultas catálogo-reportresults.csv'\n",
    "data_frame = pd.read_csv(\"d:/Users/Laura/Desktop/Espacio Integrador II/3 - Practica Academica/Practica-Acad-mica/datos/Estadísticas consultas catálogo-reportresults.csv\", sep=';')"
   ]
  },
  {
   "cell_type": "markdown",
   "metadata": {},
   "source": [
    "### Estrucutura del archivo\n",
    "##### Primer contacto con el archivo"
   ]
  },
  {
   "cell_type": "code",
   "execution_count": 32,
   "metadata": {},
   "outputs": [
    {
     "data": {
      "text/html": [
       "<div>\n",
       "<style scoped>\n",
       "    .dataframe tbody tr th:only-of-type {\n",
       "        vertical-align: middle;\n",
       "    }\n",
       "\n",
       "    .dataframe tbody tr th {\n",
       "        vertical-align: top;\n",
       "    }\n",
       "\n",
       "    .dataframe thead th {\n",
       "        text-align: right;\n",
       "    }\n",
       "</style>\n",
       "<table border=\"1\" class=\"dataframe\">\n",
       "  <thead>\n",
       "    <tr style=\"text-align: right;\">\n",
       "      <th></th>\n",
       "      <th>sessionid</th>\n",
       "      <th>query_desc</th>\n",
       "      <th>type</th>\n",
       "      <th>total</th>\n",
       "      <th>time</th>\n",
       "      <th>branchcode</th>\n",
       "      <th>categorycode</th>\n",
       "    </tr>\n",
       "  </thead>\n",
       "  <tbody>\n",
       "    <tr>\n",
       "      <th>0</th>\n",
       "      <td>8b973f78de404b6eb6548e4a229cb725</td>\n",
       "      <td>au,wrdl: bronzino</td>\n",
       "      <td>biblio</td>\n",
       "      <td>16</td>\n",
       "      <td>2018-10-17 15:27:49</td>\n",
       "      <td>FING</td>\n",
       "      <td>DOCENTE</td>\n",
       "    </tr>\n",
       "    <tr>\n",
       "      <th>1</th>\n",
       "      <td>8b973f78de404b6eb6548e4a229cb725</td>\n",
       "      <td>au,wrdl: bronzino</td>\n",
       "      <td>biblio</td>\n",
       "      <td>16</td>\n",
       "      <td>2018-10-17 15:28:25</td>\n",
       "      <td>FING</td>\n",
       "      <td>DOCENTE</td>\n",
       "    </tr>\n",
       "    <tr>\n",
       "      <th>2</th>\n",
       "      <td>8b973f78de404b6eb6548e4a229cb725</td>\n",
       "      <td>au,wrdl: webster</td>\n",
       "      <td>biblio</td>\n",
       "      <td>10</td>\n",
       "      <td>2018-10-17 15:29:51</td>\n",
       "      <td>FING</td>\n",
       "      <td>DOCENTE</td>\n",
       "    </tr>\n",
       "    <tr>\n",
       "      <th>3</th>\n",
       "      <td>8b973f78de404b6eb6548e4a229cb725</td>\n",
       "      <td>au,wrdl: webster</td>\n",
       "      <td>biblio</td>\n",
       "      <td>10</td>\n",
       "      <td>2018-10-17 15:30:02</td>\n",
       "      <td>FING</td>\n",
       "      <td>DOCENTE</td>\n",
       "    </tr>\n",
       "    <tr>\n",
       "      <th>4</th>\n",
       "      <td>8b973f78de404b6eb6548e4a229cb725</td>\n",
       "      <td>au,wrdl: webster</td>\n",
       "      <td>biblio</td>\n",
       "      <td>10</td>\n",
       "      <td>2018-10-17 15:30:13</td>\n",
       "      <td>FING</td>\n",
       "      <td>DOCENTE</td>\n",
       "    </tr>\n",
       "  </tbody>\n",
       "</table>\n",
       "</div>"
      ],
      "text/plain": [
       "                          sessionid         query_desc    type  total  \\\n",
       "0  8b973f78de404b6eb6548e4a229cb725  au,wrdl: bronzino  biblio     16   \n",
       "1  8b973f78de404b6eb6548e4a229cb725  au,wrdl: bronzino  biblio     16   \n",
       "2  8b973f78de404b6eb6548e4a229cb725   au,wrdl: webster  biblio     10   \n",
       "3  8b973f78de404b6eb6548e4a229cb725   au,wrdl: webster  biblio     10   \n",
       "4  8b973f78de404b6eb6548e4a229cb725   au,wrdl: webster  biblio     10   \n",
       "\n",
       "                  time branchcode categorycode  \n",
       "0  2018-10-17 15:27:49       FING      DOCENTE  \n",
       "1  2018-10-17 15:28:25       FING      DOCENTE  \n",
       "2  2018-10-17 15:29:51       FING      DOCENTE  \n",
       "3  2018-10-17 15:30:02       FING      DOCENTE  \n",
       "4  2018-10-17 15:30:13       FING      DOCENTE  "
      ]
     },
     "execution_count": 32,
     "metadata": {},
     "output_type": "execute_result"
    }
   ],
   "source": [
    "# Vemos los primeros datos del archivo\n",
    "data_frame.head()"
   ]
  },
  {
   "cell_type": "code",
   "execution_count": 33,
   "metadata": {},
   "outputs": [
    {
     "name": "stdout",
     "output_type": "stream",
     "text": [
      "sessionid       object\n",
      "query_desc      object\n",
      "type            object\n",
      "total            int64\n",
      "time            object\n",
      "branchcode      object\n",
      "categorycode    object\n",
      "dtype: object\n"
     ]
    }
   ],
   "source": [
    "# Consultamos los tipos de variable de cada columna\n",
    "print(data_frame.dtypes)"
   ]
  },
  {
   "cell_type": "code",
   "execution_count": 34,
   "metadata": {},
   "outputs": [
    {
     "name": "stdout",
     "output_type": "stream",
     "text": [
      "Estadísticas descriptivas de la columna 'total':\n"
     ]
    },
    {
     "data": {
      "text/plain": [
       "count     2535.000000\n",
       "mean       190.157791\n",
       "std        820.385073\n",
       "min          0.000000\n",
       "25%          2.000000\n",
       "50%          7.000000\n",
       "75%         33.000000\n",
       "max      11525.000000\n",
       "Name: total, dtype: float64"
      ]
     },
     "execution_count": 34,
     "metadata": {},
     "output_type": "execute_result"
    }
   ],
   "source": [
    "# Vemos las medidas estadisticas basicas para la variable 'total'\n",
    "estadisticas = data_frame['total'].describe()\n",
    "print(\"Estadísticas descriptivas de la columna 'total':\")\n",
    "estadisticas"
   ]
  },
  {
   "cell_type": "code",
   "execution_count": 35,
   "metadata": {},
   "outputs": [
    {
     "name": "stdout",
     "output_type": "stream",
     "text": [
      "Las búsquedas totales que no tuvieron ningun resultado son: 317\n",
      "Esto representa un porcentaje del 0.13 %\n"
     ]
    }
   ],
   "source": [
    "# Nos fijamos la cantidad de veces que el sistema no encontró ningun material con la busqueda ingresada por el usuario\n",
    "cero_resultados = data_frame[data_frame['total'] == 0]\n",
    "print(f\"Las búsquedas totales que no tuvieron ningun resultado son: {len(cero_resultados)}\")\n",
    "\n",
    "porcentaje_cero_resultados = len(cero_resultados) / len(data_frame)\n",
    "print(f\"Esto representa un porcentaje del {round(porcentaje_cero_resultados, 2)} %\")"
   ]
  },
  {
   "cell_type": "code",
   "execution_count": 36,
   "metadata": {},
   "outputs": [
    {
     "name": "stdout",
     "output_type": "stream",
     "text": [
      "Máximo de resultados que encontró el sistema: 11525\n"
     ]
    },
    {
     "data": {
      "text/html": [
       "<div>\n",
       "<style scoped>\n",
       "    .dataframe tbody tr th:only-of-type {\n",
       "        vertical-align: middle;\n",
       "    }\n",
       "\n",
       "    .dataframe tbody tr th {\n",
       "        vertical-align: top;\n",
       "    }\n",
       "\n",
       "    .dataframe thead th {\n",
       "        text-align: right;\n",
       "    }\n",
       "</style>\n",
       "<table border=\"1\" class=\"dataframe\">\n",
       "  <thead>\n",
       "    <tr style=\"text-align: right;\">\n",
       "      <th></th>\n",
       "      <th>sessionid</th>\n",
       "      <th>query_desc</th>\n",
       "      <th>type</th>\n",
       "      <th>total</th>\n",
       "      <th>time</th>\n",
       "      <th>branchcode</th>\n",
       "      <th>categorycode</th>\n",
       "    </tr>\n",
       "  </thead>\n",
       "  <tbody>\n",
       "    <tr>\n",
       "      <th>1394</th>\n",
       "      <td>7a7a070b4c157d901bc30c69555b7dfa</td>\n",
       "      <td>kw,wrdl: c++,</td>\n",
       "      <td>biblio</td>\n",
       "      <td>11525</td>\n",
       "      <td>2022-11-01 11:30:25</td>\n",
       "      <td>FING</td>\n",
       "      <td>BIBLIOTECA</td>\n",
       "    </tr>\n",
       "  </tbody>\n",
       "</table>\n",
       "</div>"
      ],
      "text/plain": [
       "                             sessionid      query_desc    type  total  \\\n",
       "1394  7a7a070b4c157d901bc30c69555b7dfa  kw,wrdl: c++,   biblio  11525   \n",
       "\n",
       "                     time branchcode categorycode  \n",
       "1394  2022-11-01 11:30:25       FING   BIBLIOTECA  "
      ]
     },
     "execution_count": 36,
     "metadata": {},
     "output_type": "execute_result"
    }
   ],
   "source": [
    "# Buscamos el valor maximo de resultados que logro devolver el sistema\n",
    "max_resultados = data_frame['total'].max()\n",
    "print(f\"Máximo de resultados que encontró el sistema: {max_resultados}\")\n",
    "\n",
    "# Encontramos el usuario que realizo esta busqueda\n",
    "usuario_max_resultados = data_frame[data_frame['total'] == max_resultados]\n",
    "usuario_max_resultados"
   ]
  },
  {
   "cell_type": "code",
   "execution_count": 37,
   "metadata": {},
   "outputs": [
    {
     "data": {
      "image/png": "[encoded data removed]",
      "text/plain": [
       "<Figure size 640x480 with 1 Axes>"
      ]
     },
     "metadata": {},
     "output_type": "display_data"
    }
   ],
   "source": [
    "# Histograma de la columna 'total'\n",
    "plt.hist(data_frame['total'], bins=30, edgecolor='black')\n",
    "plt.title('Distribución de Resultados obtenidos por los usuarios')\n",
    "plt.xlabel('Número de Resultados')\n",
    "plt.ylabel('Frecuencia')\n",
    "plt.show()"
   ]
  },
  {
   "cell_type": "markdown",
   "metadata": {},
   "source": [
    "### Identificación de las variables más importantes y exploración de los datos\n",
    "##### Se identificarán las variables que ayudarán a resolver nuestro problema. Además de hacer una exploración de los datos que nos brinde más información sobre los datos"
   ]
  },
  {
   "cell_type": "code",
   "execution_count": 49,
   "metadata": {},
   "outputs": [],
   "source": [
    "# Filtramos el data frame, nos quedaremos con las variables que resolverán nuestro problema\n",
    "df_filtrado = data_frame[['sessionid', 'query_desc','total','time']]\n",
    "df_filtrado.head()\n",
    "\n",
    "# Hacemos una copia del data frame filtrado para poder trabajar en otras ramas\n",
    "df_auxiliar = df_filtrado.copy()"
   ]
  },
  {
   "cell_type": "code",
   "execution_count": 50,
   "metadata": {},
   "outputs": [
    {
     "data": {
      "image/png": "[encoded data removed]",
      "text/plain": [
       "<Figure size 1000x600 with 1 Axes>"
      ]
     },
     "metadata": {},
     "output_type": "display_data"
    }
   ],
   "source": [
    "# Pasamos el 'time' de la busqueda a formato tiempo para extraer el año y contabilizarlos\n",
    "df_auxiliar['time'] = pd.to_datetime(df_filtrado['time'])\n",
    "df_auxiliar['año'] = df_auxiliar['time'].dt.year\n",
    "\n",
    "total_busquedas = df_auxiliar['año'].value_counts().sort_index()\n",
    "\n",
    "# Grafico para el total de busquedas por año\n",
    "plt.figure(figsize=(10, 6))\n",
    "total_busquedas.plot(kind='bar', color='red')\n",
    "plt.title('Cantidad de Búsquedas por Año')\n",
    "plt.xlabel('Año')\n",
    "plt.ylabel('Cantidad de Búsquedas')\n",
    "plt.xticks(rotation=45)\n",
    "plt.grid(axis='y', linestyle='-', alpha=0.5)\n",
    "plt.tight_layout()\n",
    "plt.show()"
   ]
  },
  {
   "cell_type": "code",
   "execution_count": 51,
   "metadata": {},
   "outputs": [
    {
     "name": "stdout",
     "output_type": "stream",
     "text": [
      "El usuario con más busquedas en el sistema es: \n"
     ]
    },
    {
     "data": {
      "text/plain": [
       "sessionid\n",
       "e03def7e497ec6c9bb60f290d5247dc8    49\n",
       "Name: count, dtype: int64"
      ]
     },
     "execution_count": 51,
     "metadata": {},
     "output_type": "execute_result"
    }
   ],
   "source": [
    "# Buscamos el usuario con más búsquedas dentro del sistema\n",
    "maximo_usuario_busqueda = df_auxiliar['sessionid'].value_counts().sort_index()\n",
    "print(\"El usuario con más busquedas en el sistema es: \")\n",
    "maximo_usuario_busqueda[maximo_usuario_busqueda == maximo_usuario_busqueda.max()]"
   ]
  },
  {
   "cell_type": "code",
   "execution_count": 52,
   "metadata": {},
   "outputs": [
    {
     "name": "stdout",
     "output_type": "stream",
     "text": [
      "La cantidad de usuarios que hicieron una búsqueda en el sistema son: 853\n"
     ]
    }
   ],
   "source": [
    "cantidad_usuarios = df_auxiliar['sessionid'].nunique()\n",
    "print(\"La cantidad de usuarios que hicieron una búsqueda en el sistema son:\", cantidad_usuarios)"
   ]
  },
  {
   "cell_type": "markdown",
   "metadata": {},
   "source": [
    "### Etapa de limpieza"
   ]
  },
  {
   "cell_type": "code",
   "execution_count": 53,
   "metadata": {},
   "outputs": [],
   "source": [
    "# Se eliminan los registros duplicados\n",
    "data_frame = data_frame.drop_duplicates()\n",
    "\n",
    "# Pasamos de tener 2535 cantidad de filas a tener 2470 registros, eliminando 65 resgistros duplicados"
   ]
  },
  {
   "cell_type": "code",
   "execution_count": 54,
   "metadata": {},
   "outputs": [
    {
     "name": "stdout",
     "output_type": "stream",
     "text": [
      "<class 'pandas.core.frame.DataFrame'>\n",
      "Index: 2470 entries, 0 to 2534\n",
      "Data columns (total 7 columns):\n",
      " #   Column        Non-Null Count  Dtype \n",
      "---  ------        --------------  ----- \n",
      " 0   sessionid     2470 non-null   object\n",
      " 1   query_desc    2470 non-null   object\n",
      " 2   type          2470 non-null   object\n",
      " 3   total         2470 non-null   int64 \n",
      " 4   time          2470 non-null   object\n",
      " 5   branchcode    2470 non-null   object\n",
      " 6   categorycode  2470 non-null   object\n",
      "dtypes: int64(1), object(6)\n",
      "memory usage: 154.4+ KB\n"
     ]
    }
   ],
   "source": [
    "# Nos fijamos si las columnas tienen algún valor nulo\n",
    "data_frame.info()\n",
    "\n",
    "# Podemos observar que de las 2470 filas resultantes, ninguna posee valores nulos"
   ]
  },
  {
   "cell_type": "code",
   "execution_count": 55,
   "metadata": {},
   "outputs": [
    {
     "name": "stdout",
     "output_type": "stream",
     "text": [
      "                             sessionid query_desc  total                time  \\\n",
      "750   dd49ced56b003c9c8a33fa9cfcc93a55      robot     45 2022-03-23 17:34:00   \n",
      "752   dd49ced56b003c9c8a33fa9cfcc93a55      robot     45 2022-03-23 17:35:00   \n",
      "754   dd49ced56b003c9c8a33fa9cfcc93a55   da vinci      0 2022-03-23 17:36:00   \n",
      "756   dd49ced56b003c9c8a33fa9cfcc93a55   robotica     13 2022-03-23 17:44:00   \n",
      "1680  d2557d77b8fe1ac4f906d8c47743444a         ,       0 2023-04-28 12:31:00   \n",
      "\n",
      "       año  \n",
      "750   2022  \n",
      "752   2022  \n",
      "754   2022  \n",
      "756   2022  \n",
      "1680  2023  \n"
     ]
    }
   ],
   "source": [
    "# Buscamos las búsquedas que no tienen un campo ingresado\n",
    "filas_sin_query = df_auxiliar[~ df_auxiliar['query_desc'].str.contains(pattern, na=False)]\n",
    "\n",
    "if not filas_sin_query.empty:\n",
    "    print(filas_sin_query)\n",
    "else:\n",
    "    print(\"Todas las filas contienen al menos un campo de búsqueda.\")"
   ]
  },
  {
   "cell_type": "code",
   "execution_count": 56,
   "metadata": {},
   "outputs": [
    {
     "name": "stderr",
     "output_type": "stream",
     "text": [
      "C:\\Users\\Laura\\AppData\\Local\\Temp\\ipykernel_7260\\3558051169.py:2: SettingWithCopyWarning: \n",
      "A value is trying to be set on a copy of a slice from a DataFrame.\n",
      "Try using .loc[row_indexer,col_indexer] = value instead\n",
      "\n",
      "See the caveats in the documentation: https://pandas.pydata.org/pandas-docs/stable/user_guide/indexing.html#returning-a-view-versus-a-copy\n",
      "  filas_sin_query['query_desc'] = filas_sin_query['query_desc'].replace('robot', 'kw: robot')\n",
      "C:\\Users\\Laura\\AppData\\Local\\Temp\\ipykernel_7260\\3558051169.py:3: SettingWithCopyWarning: \n",
      "A value is trying to be set on a copy of a slice from a DataFrame.\n",
      "Try using .loc[row_indexer,col_indexer] = value instead\n",
      "\n",
      "See the caveats in the documentation: https://pandas.pydata.org/pandas-docs/stable/user_guide/indexing.html#returning-a-view-versus-a-copy\n",
      "  filas_sin_query['query_desc'] = filas_sin_query['query_desc'].replace('robotica', 'kw: robotica')\n",
      "C:\\Users\\Laura\\AppData\\Local\\Temp\\ipykernel_7260\\3558051169.py:4: SettingWithCopyWarning: \n",
      "A value is trying to be set on a copy of a slice from a DataFrame.\n",
      "Try using .loc[row_indexer,col_indexer] = value instead\n",
      "\n",
      "See the caveats in the documentation: https://pandas.pydata.org/pandas-docs/stable/user_guide/indexing.html#returning-a-view-versus-a-copy\n",
      "  filas_sin_query['query_desc'] = filas_sin_query['query_desc'].replace('da vinci', 'au: da vinci')\n"
     ]
    }
   ],
   "source": [
    "# Imputamos las filas que no tienen campos ingresados\n",
    "filas_sin_query['query_desc'] = filas_sin_query['query_desc'].replace('robot', 'kw: robot')\n",
    "filas_sin_query['query_desc'] = filas_sin_query['query_desc'].replace('robotica', 'kw: robotica')\n",
    "filas_sin_query['query_desc'] = filas_sin_query['query_desc'].replace('da vinci', 'au: da vinci')\n",
    "\n",
    "\n",
    "filas_sin_query = filas_sin_query.drop(1680)"
   ]
  },
  {
   "cell_type": "code",
   "execution_count": 57,
   "metadata": {},
   "outputs": [],
   "source": [
    "df_auxiliar = df_auxiliar.drop([750,752,754,756,1680])\n",
    "df_auxiliar = pd.concat([df_auxiliar, filas_sin_query], axis=0, ignore_index=True)"
   ]
  },
  {
   "cell_type": "markdown",
   "metadata": {},
   "source": [
    "### Preparación de los datos para el análisis estadístico"
   ]
  },
  {
   "cell_type": "code",
   "execution_count": 58,
   "metadata": {},
   "outputs": [],
   "source": [
    "# Aplicar la función para crear una nueva columna 'campo_extraido'\n",
    "df_auxiliar['campo_extraido'] = df_auxiliar['query_desc'].apply(extraer_campo)"
   ]
  },
  {
   "cell_type": "code",
   "execution_count": null,
   "metadata": {},
   "outputs": [],
   "source": []
  },
  {
   "cell_type": "code",
   "execution_count": null,
   "metadata": {},
   "outputs": [],
   "source": []
  },
  {
   "cell_type": "code",
   "execution_count": null,
   "metadata": {},
   "outputs": [],
   "source": []
  }
 ],
 "metadata": {
  "kernelspec": {
   "display_name": "Python 3",
   "language": "python",
   "name": "python3"
  },
  "language_info": {
   "codemirror_mode": {
    "name": "ipython",
    "version": 3
   },
   "file_extension": ".py",
   "mimetype": "text/x-python",
   "name": "python",
   "nbconvert_exporter": "python",
   "pygments_lexer": "ipython3",
   "version": "3.11.9"
  }
 },
 "nbformat": 4,
 "nbformat_minor": 2
}
