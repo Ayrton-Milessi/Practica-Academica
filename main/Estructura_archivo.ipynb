{
 "cells": [
  {
   "cell_type": "markdown",
   "metadata": {},
   "source": [
    "#### Descripción de las columnas del archivo:\n",
    "* sessionid    ---> identificador del inicio de sesión.\n",
    "\n",
    "* query_desc   ---> campos utilizados en la búsqueda.\n",
    "\n",
    "* type         ---> ('biblio', 'authority').\n",
    "\n",
    "* total        ---> cantidad de registros que devuelve el sistema con los terminos ingresados.\n",
    "\n",
    "* time         ---> fecha y hora de la búsqueda.\n",
    "\n",
    "* branchcode   ---> identificador de la Facultad de Ingenieria('FING').\n",
    "\n",
    "* categorycode ---> identificadores de la persona que hace la búsqueda, si es docente, de biblioteca, egresado , invitado de otra facultad,alumno de intercambio, etc. ('DOCENTE', 'BIBLIOTECA', 'TEC_MED_N', 'BIOINGENIE', 'TEC_PROD_M', 'HIST', 'S', 'INVI', 'AGRO', 'INTERALUM', 'BIOINF')."
   ]
  },
  {
   "cell_type": "markdown",
   "metadata": {},
   "source": [
    "### Explicación de los campos de búsqueda utilizados por los usuarios y que brinda el sistema:\n",
    "* kw        ----> palabra clave. Palabra que tiene que estar presente en el material.\n",
    "\n",
    "* au/AU     ----> nombre o apellido del autor. Todo el material que esta cargado para ese autor.\n",
    "\n",
    "* mc-itype  ----> tipo del material, ya sea libro, revista, tesis, etc.\n",
    "\n",
    "* ti        ----> titulo del material.\n",
    "\n",
    "* an        ----> número de la autoridad registrada en la biblioteca. Asocia ese número con X autor.\n",
    "\n",
    "* su        ----> subtema del material. Es el contenido que esta presente en el material.\n",
    "\n",
    "* BC/bc     ----> equivalente al codigo de barras de un producto. Nombre del inventario.\n",
    "\n",
    "* su-to     ----> \n",
    "\n",
    "* callnum   ----> número del estante (en biblioteca) donde esta el material.\n",
    "\n",
    "* I-format  ----> el formato del material. Por ejemplo puede ser fisico o online.\n",
    "\n",
    "* YE        ----> \n",
    "\n",
    "* se        ---->\n",
    "\n",
    "* In        ---->\n",
    "\n",
    "* bx        ---->\n",
    "\n",
    "* Provider  ---->"
   ]
  },
  {
   "cell_type": "markdown",
   "metadata": {},
   "source": []
  },
  {
   "cell_type": "markdown",
   "metadata": {},
   "source": []
  },
  {
   "cell_type": "markdown",
   "metadata": {},
   "source": []
  },
  {
   "cell_type": "markdown",
   "metadata": {},
   "source": []
  },
  {
   "cell_type": "markdown",
   "metadata": {},
   "source": []
  },
  {
   "cell_type": "markdown",
   "metadata": {},
   "source": []
  },
  {
   "cell_type": "markdown",
   "metadata": {},
   "source": [
    "### Explicación de los campos de búsqueda \n",
    "* kw, wrdl ---> palabra clave\n",
    "\n",
    "* au, wrdl ---> autor\n",
    "\n",
    "* mc-itype ---> el tipo de material que es (libro, resvista, etc)\n",
    "\n",
    "* ti, wrdl ---> titulo del material\n",
    "\n",
    "* an ---> autoridad registrada en el sistema. Asocia un numero con un autor\n",
    "\n",
    "* itype ---> tipo de material\n",
    "\n",
    "* au ---> autor \n",
    "\n",
    "* su, wrdl ---> subtema del material, contenido\n",
    "\n",
    "* BC ---> \n",
    "\n",
    "* bc ---> equivalente al codigo de barras, nombre del inventario\n",
    "\n",
    "* mc-itype.phr ---> tipo de material\n",
    "\n",
    "* su-to --->\n",
    "\n",
    "* su ---> subject, contenido del material\n",
    "\n",
    "* callnun, wrdl ---> un numero del estante en la biblioteca\n",
    "\n",
    "* ti, phr --->\n",
    "\n",
    "* ti ---> titulo del material\n",
    "\n",
    "* I-format ---> que el material esta en linea\n",
    "\n",
    "* \n",
    "\n",
    "* AU --->\n",
    "\n",
    "* YE --->\n",
    "\n",
    "* an, phr ---> \n",
    "\n",
    "* se, wrdl --->\n",
    "\n",
    "* se --->  \n",
    "\n",
    "* In, rtrn --->\n",
    "\n",
    "* bx ---> \n",
    "\n",
    "* se, phr --->\n",
    "\n",
    "* Provider --->\n",
    "\n",
    "----------------------------------\n",
    "\n",
    "* mc-itype:TE --->  alguien que busco una tesis\n",
    "\n",
    "* mc-itype, phr: RL --->\n",
    "\n",
    "* mc-itype: LIB"
   ]
  },
  {
   "cell_type": "markdown",
   "metadata": {},
   "source": []
  }
 ],
 "metadata": {
  "language_info": {
   "name": "python"
  }
 },
 "nbformat": 4,
 "nbformat_minor": 2
}
